{
 "cells": [
  {
   "cell_type": "code",
   "execution_count": 2,
   "metadata": {},
   "outputs": [
    {
     "name": "stderr",
     "output_type": "stream",
     "text": [
      "/var/folders/yw/mp5v5fdx1_n4b01714b8bdl80000gn/T/ipykernel_67419/3878672483.py:2: DtypeWarning: Columns (12,15,16,18,21,23) have mixed types. Specify dtype option on import or set low_memory=False.\n",
      "  df = pd.read_csv(file_path + 'combined_training.txt', sep='\\t')\n"
     ]
    },
    {
     "name": "stdout",
     "output_type": "stream",
     "text": [
      "(6695102, 29)\n"
     ]
    }
   ],
   "source": [
    "import pandas as pd\n",
    "file_path = '/Users/yujinlee/Downloads/'\n",
    "df = pd.read_csv(file_path + 'combined_training_before_normalize.txt', sep='\\t')\n",
    "print(df.shape)"
   ]
  },
  {
   "cell_type": "code",
   "execution_count": 17,
   "metadata": {},
   "outputs": [],
   "source": [
    "from sklearn.preprocessing import StandardScaler, OneHotEncoder\n",
    "from sklearn.compose import ColumnTransformer\n",
    "from sklearn.pipeline import Pipeline\n",
    "\n",
    "features = df[['region', 'city', 'adExchange', 'width', 'height', 'floorPrice', 'weekday', 'hour']]\n",
    "target = df['numClick']\n",
    "\n",
    "numerical_cols = ['region', 'city', 'width', 'height', 'floorPrice', 'hour','adExchange']\n",
    "categorical_cols = ['weekday']  # Assuming 'adExchange' needs encoding if non-numeric"
   ]
  },
  {
   "cell_type": "code",
   "execution_count": 25,
   "metadata": {},
   "outputs": [
    {
     "data": {
      "text/html": [
       "<div>\n",
       "<style scoped>\n",
       "    .dataframe tbody tr th:only-of-type {\n",
       "        vertical-align: middle;\n",
       "    }\n",
       "\n",
       "    .dataframe tbody tr th {\n",
       "        vertical-align: top;\n",
       "    }\n",
       "\n",
       "    .dataframe thead th {\n",
       "        text-align: right;\n",
       "    }\n",
       "</style>\n",
       "<table border=\"1\" class=\"dataframe\">\n",
       "  <thead>\n",
       "    <tr style=\"text-align: right;\">\n",
       "      <th></th>\n",
       "      <th>region</th>\n",
       "      <th>city</th>\n",
       "      <th>adExchange</th>\n",
       "      <th>width</th>\n",
       "      <th>height</th>\n",
       "      <th>floorPrice</th>\n",
       "      <th>weekday</th>\n",
       "      <th>hour</th>\n",
       "    </tr>\n",
       "  </thead>\n",
       "  <tbody>\n",
       "    <tr>\n",
       "      <th>6695097</th>\n",
       "      <td>216</td>\n",
       "      <td>222</td>\n",
       "      <td>3.0</td>\n",
       "      <td>980</td>\n",
       "      <td>90</td>\n",
       "      <td>20</td>\n",
       "      <td>Monday</td>\n",
       "      <td>16</td>\n",
       "    </tr>\n",
       "    <tr>\n",
       "      <th>6695098</th>\n",
       "      <td>55</td>\n",
       "      <td>56</td>\n",
       "      <td>2.0</td>\n",
       "      <td>200</td>\n",
       "      <td>200</td>\n",
       "      <td>4</td>\n",
       "      <td>Monday</td>\n",
       "      <td>11</td>\n",
       "    </tr>\n",
       "    <tr>\n",
       "      <th>6695099</th>\n",
       "      <td>216</td>\n",
       "      <td>227</td>\n",
       "      <td>3.0</td>\n",
       "      <td>180</td>\n",
       "      <td>600</td>\n",
       "      <td>20</td>\n",
       "      <td>Monday</td>\n",
       "      <td>11</td>\n",
       "    </tr>\n",
       "    <tr>\n",
       "      <th>6695100</th>\n",
       "      <td>253</td>\n",
       "      <td>254</td>\n",
       "      <td>2.0</td>\n",
       "      <td>336</td>\n",
       "      <td>280</td>\n",
       "      <td>5</td>\n",
       "      <td>Monday</td>\n",
       "      <td>12</td>\n",
       "    </tr>\n",
       "    <tr>\n",
       "      <th>6695101</th>\n",
       "      <td>146</td>\n",
       "      <td>159</td>\n",
       "      <td>3.0</td>\n",
       "      <td>1000</td>\n",
       "      <td>90</td>\n",
       "      <td>20</td>\n",
       "      <td>Monday</td>\n",
       "      <td>17</td>\n",
       "    </tr>\n",
       "  </tbody>\n",
       "</table>\n",
       "</div>"
      ],
      "text/plain": [
       "         region  city  adExchange  width  height  floorPrice weekday  hour\n",
       "6695097     216   222         3.0    980      90          20  Monday    16\n",
       "6695098      55    56         2.0    200     200           4  Monday    11\n",
       "6695099     216   227         3.0    180     600          20  Monday    11\n",
       "6695100     253   254         2.0    336     280           5  Monday    12\n",
       "6695101     146   159         3.0   1000      90          20  Monday    17"
      ]
     },
     "execution_count": 25,
     "metadata": {},
     "output_type": "execute_result"
    }
   ],
   "source": [
    "features.tail()"
   ]
  },
  {
   "cell_type": "code",
   "execution_count": 40,
   "metadata": {},
   "outputs": [
    {
     "data": {
      "text/plain": [
       "(6695102, 14)"
      ]
     },
     "execution_count": 40,
     "metadata": {},
     "output_type": "execute_result"
    }
   ],
   "source": [
    "# Creating transformers for numerical and categorical data\n",
    "numeric_transformer = Pipeline(steps=[\n",
    "    ('scaler', StandardScaler())\n",
    "])\n",
    "\n",
    "categorical_transformer = Pipeline(steps=[\n",
    "    ('onehot', OneHotEncoder(handle_unknown='ignore'))\n",
    "])\n",
    "\n",
    "# Combining transformers into a ColumnTransformer\n",
    "preprocessor = ColumnTransformer(\n",
    "    transformers=[\n",
    "        ('num', numeric_transformer, numerical_cols),\n",
    "        ('cat', categorical_transformer, categorical_cols)\n",
    "    ])\n",
    "\n",
    "# Applying the transformations\n",
    "X_preprocessed = preprocessor.fit_transform(features)\n",
    "X_preprocessed.shape  # Display the shape of the transformed feature matrix to confirm completion\n"
   ]
  },
  {
   "cell_type": "code",
   "execution_count": 42,
   "metadata": {},
   "outputs": [
    {
     "name": "stderr",
     "output_type": "stream",
     "text": [
      "/Users/yujinlee/opt/anaconda3/lib/python3.9/site-packages/sklearn/metrics/_classification.py:1318: UndefinedMetricWarning: Precision and F-score are ill-defined and being set to 0.0 in labels with no predicted samples. Use `zero_division` parameter to control this behavior.\n",
      "  _warn_prf(average, modifier, msg_start, len(result))\n",
      "/Users/yujinlee/opt/anaconda3/lib/python3.9/site-packages/sklearn/metrics/_classification.py:1318: UndefinedMetricWarning: Precision and F-score are ill-defined and being set to 0.0 in labels with no predicted samples. Use `zero_division` parameter to control this behavior.\n",
      "  _warn_prf(average, modifier, msg_start, len(result))\n"
     ]
    },
    {
     "name": "stdout",
     "output_type": "stream",
     "text": [
      "Coefficients: [[ 0.32184193 -0.33938767  0.00865819  0.01192459  0.16994901  0.01982248\n",
      "  -0.15417052 -0.19533879 -0.24058476 -0.01714379  0.89247962 -0.17634483\n",
      "  -0.08402347 -0.19860977]]\n",
      "Intercept: [-7.1269368]\n"
     ]
    },
    {
     "name": "stderr",
     "output_type": "stream",
     "text": [
      "/Users/yujinlee/opt/anaconda3/lib/python3.9/site-packages/sklearn/metrics/_classification.py:1318: UndefinedMetricWarning: Precision and F-score are ill-defined and being set to 0.0 in labels with no predicted samples. Use `zero_division` parameter to control this behavior.\n",
      "  _warn_prf(average, modifier, msg_start, len(result))\n"
     ]
    }
   ],
   "source": [
    "from sklearn.model_selection import train_test_split\n",
    "from sklearn.linear_model import LogisticRegression\n",
    "from sklearn.metrics import accuracy_score, confusion_matrix, classification_report\n",
    "\n",
    "# Split the data into training and testing sets (70% train, 30% test)\n",
    "X_train, X_test, y_train, y_test = train_test_split(X_preprocessed, target, test_size=0.3, random_state=42)\n",
    "\n",
    "# Initialize the Logistic Regression model\n",
    "logistic_model = LogisticRegression()\n",
    "\n",
    "# Train the model\n",
    "logistic_model.fit(X_train, y_train)\n",
    "\n",
    "# Predict on the testing set\n",
    "y_pred = logistic_model.predict(X_test)\n",
    "\n",
    "# Evaluate the model\n",
    "accuracy = accuracy_score(y_test, y_pred)\n",
    "conf_matrix = confusion_matrix(y_test, y_pred)\n",
    "report = classification_report(y_test, y_pred)\n",
    "\n",
    "# Predict on the testing set\n",
    "y_pred = logistic_model.predict(X_test)\n",
    "print(\"Coefficients:\", logistic_model.coef_)\n",
    "print(\"Intercept:\", logistic_model.intercept_)\n"
   ]
  },
  {
   "cell_type": "code",
   "execution_count": 46,
   "metadata": {},
   "outputs": [
    {
     "name": "stdout",
     "output_type": "stream",
     "text": [
      "Accuracy: 0.9992706112078927\n",
      "Confusion Matrix:\n",
      " [[2007066       0]\n",
      " [   1465       0]]\n",
      "Classification Report:\n",
      "               precision    recall  f1-score   support\n",
      "\n",
      "           0       1.00      1.00      1.00   2007066\n",
      "           1       0.00      0.00      0.00      1465\n",
      "\n",
      "    accuracy                           1.00   2008531\n",
      "   macro avg       0.50      0.50      0.50   2008531\n",
      "weighted avg       1.00      1.00      1.00   2008531\n",
      "\n"
     ]
    }
   ],
   "source": [
    "print(\"Accuracy:\", accuracy)\n",
    "print(\"Confusion Matrix:\\n\", conf_matrix)\n",
    "print(\"Classification Report:\\n\", report)"
   ]
  },
  {
   "cell_type": "code",
   "execution_count": 44,
   "metadata": {},
   "outputs": [
    {
     "name": "stdout",
     "output_type": "stream",
     "text": [
      "              Feature  Coefficient\n",
      "10     weekday_Sunday     0.892480\n",
      "1                city    -0.339388\n",
      "0              region     0.321842\n",
      "8      weekday_Monday    -0.240585\n",
      "13  weekday_Wednesday    -0.198610\n",
      "7      weekday_Friday    -0.195339\n",
      "11   weekday_Thursday    -0.176345\n",
      "4          floorPrice     0.169949\n",
      "6          adExchange    -0.154171\n",
      "12    weekday_Tuesday    -0.084023\n",
      "5                hour     0.019822\n",
      "9    weekday_Saturday    -0.017144\n",
      "3              height     0.011925\n",
      "2               width     0.008658\n"
     ]
    }
   ],
   "source": [
    "# Access the feature names from the one-hot encoder and numerical features\n",
    "feature_names = (numerical_cols +\n",
    "                 list(preprocessor.named_transformers_['cat'].named_steps['onehot']\n",
    "                      .get_feature_names_out(categorical_cols)))\n",
    "\n",
    "# Get the coefficients from the logistic regression model\n",
    "coefficients = logistic_model.coef_[0]\n",
    "\n",
    "# Create a DataFrame to view the feature names alongside their corresponding coefficients\n",
    "import pandas as pd\n",
    "feature_importance = pd.DataFrame({'Feature': feature_names, 'Coefficient': coefficients})\n",
    "\n",
    "# Sort the features by the absolute values of their coefficients for better visibility\n",
    "feature_importance.sort_values(by='Coefficient', key=abs, ascending=False, inplace=True)\n",
    "\n",
    "print(feature_importance)\n"
   ]
  },
  {
   "cell_type": "code",
   "execution_count": null,
   "metadata": {},
   "outputs": [],
   "source": []
  }
 ],
 "metadata": {
  "kernelspec": {
   "display_name": "base",
   "language": "python",
   "name": "python3"
  },
  "language_info": {
   "codemirror_mode": {
    "name": "ipython",
    "version": 3
   },
   "file_extension": ".py",
   "mimetype": "text/x-python",
   "name": "python",
   "nbconvert_exporter": "python",
   "pygments_lexer": "ipython3",
   "version": "3.9.12"
  }
 },
 "nbformat": 4,
 "nbformat_minor": 2
}
