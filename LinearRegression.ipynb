{
 "cells": [
  {
   "cell_type": "code",
   "execution_count": 1,
   "metadata": {},
   "outputs": [
    {
     "name": "stdout",
     "output_type": "stream",
     "text": [
      "Requirement already satisfied: scikit-learn in /Users/yujinlee/opt/anaconda3/lib/python3.9/site-packages (1.0.2)\n",
      "Requirement already satisfied: scipy>=1.1.0 in /Users/yujinlee/opt/anaconda3/lib/python3.9/site-packages (from scikit-learn) (1.7.3)\n",
      "Requirement already satisfied: joblib>=0.11 in /Users/yujinlee/opt/anaconda3/lib/python3.9/site-packages (from scikit-learn) (1.1.0)\n",
      "Requirement already satisfied: numpy>=1.14.6 in /Users/yujinlee/opt/anaconda3/lib/python3.9/site-packages (from scikit-learn) (1.21.5)\n",
      "Requirement already satisfied: threadpoolctl>=2.0.0 in /Users/yujinlee/opt/anaconda3/lib/python3.9/site-packages (from scikit-learn) (2.2.0)\n",
      "Note: you may need to restart the kernel to use updated packages.\n"
     ]
    }
   ],
   "source": [
    "pip install scikit-learn"
   ]
  },
  {
   "cell_type": "code",
   "execution_count": 1,
   "metadata": {},
   "outputs": [],
   "source": [
    "import pandas as pd"
   ]
  },
  {
   "cell_type": "code",
   "execution_count": 2,
   "metadata": {},
   "outputs": [
    {
     "name": "stderr",
     "output_type": "stream",
     "text": [
      "/var/folders/yw/mp5v5fdx1_n4b01714b8bdl80000gn/T/ipykernel_67419/3878672483.py:2: DtypeWarning: Columns (12,15,16,18,21,23) have mixed types. Specify dtype option on import or set low_memory=False.\n",
      "  df = pd.read_csv(file_path + 'combined_training.txt', sep='\\t')\n"
     ]
    },
    {
     "name": "stdout",
     "output_type": "stream",
     "text": [
      "(6695102, 29)\n"
     ]
    }
   ],
   "source": [
    "file_path = '/Users/yujinlee/Downloads/'\n",
    "df = pd.read_csv(file_path + 'combined_training.txt', sep='\\t')\n",
    "print(df.shape)"
   ]
  },
  {
   "cell_type": "code",
   "execution_count": 3,
   "metadata": {},
   "outputs": [
    {
     "data": {
      "text/html": [
       "<div>\n",
       "<style scoped>\n",
       "    .dataframe tbody tr th:only-of-type {\n",
       "        vertical-align: middle;\n",
       "    }\n",
       "\n",
       "    .dataframe tbody tr th {\n",
       "        vertical-align: top;\n",
       "    }\n",
       "\n",
       "    .dataframe thead th {\n",
       "        text-align: right;\n",
       "    }\n",
       "</style>\n",
       "<table border=\"1\" class=\"dataframe\">\n",
       "  <thead>\n",
       "    <tr style=\"text-align: right;\">\n",
       "      <th></th>\n",
       "      <th>0</th>\n",
       "      <th>1</th>\n",
       "      <th>2</th>\n",
       "      <th>3</th>\n",
       "      <th>4</th>\n",
       "      <th>5</th>\n",
       "      <th>6</th>\n",
       "      <th>7</th>\n",
       "      <th>8</th>\n",
       "      <th>9</th>\n",
       "      <th>...</th>\n",
       "      <th>19</th>\n",
       "      <th>20</th>\n",
       "      <th>21</th>\n",
       "      <th>22</th>\n",
       "      <th>23</th>\n",
       "      <th>24</th>\n",
       "      <th>25</th>\n",
       "      <th>datetime</th>\n",
       "      <th>weekday</th>\n",
       "      <th>hour</th>\n",
       "    </tr>\n",
       "  </thead>\n",
       "  <tbody>\n",
       "    <tr>\n",
       "      <th>0</th>\n",
       "      <td>b006d2236cd8786f8269e3bd60dd795f</td>\n",
       "      <td>20130318000100765</td>\n",
       "      <td>1</td>\n",
       "      <td>c43a65560b3c8adc7cfe24ef38e82398</td>\n",
       "      <td>Mozilla/4.0 (compatible; MSIE 6.0; Windows NT ...</td>\n",
       "      <td>60.190.192.*</td>\n",
       "      <td>94</td>\n",
       "      <td>100</td>\n",
       "      <td>2.0</td>\n",
       "      <td>eF1gtp57dNFrw9Kbu-</td>\n",
       "      <td>...</td>\n",
       "      <td>300</td>\n",
       "      <td>13</td>\n",
       "      <td>9f4e2f16b6873a7eb504df6f61b24044</td>\n",
       "      <td>0</td>\n",
       "      <td>0</td>\n",
       "      <td>0</td>\n",
       "      <td>0</td>\n",
       "      <td>2013-03-18 00:01:00.765</td>\n",
       "      <td>Monday</td>\n",
       "      <td>0</td>\n",
       "    </tr>\n",
       "    <tr>\n",
       "      <th>1</th>\n",
       "      <td>72f80b647a1ee74dd131c00f5dbb0174</td>\n",
       "      <td>20130318000100802</td>\n",
       "      <td>1</td>\n",
       "      <td>d09e956039c402a4c36513920c06bc84</td>\n",
       "      <td>Mozilla/5.0 (Windows NT 6.1) AppleWebKit/537.1...</td>\n",
       "      <td>175.170.0.*</td>\n",
       "      <td>40</td>\n",
       "      <td>42</td>\n",
       "      <td>2.0</td>\n",
       "      <td>3F9-GK9SGqs8jdpz5SqW</td>\n",
       "      <td>...</td>\n",
       "      <td>300</td>\n",
       "      <td>25</td>\n",
       "      <td>df6f61b2409f4e2f16b6873a7eb50444</td>\n",
       "      <td>0</td>\n",
       "      <td>0</td>\n",
       "      <td>0</td>\n",
       "      <td>0</td>\n",
       "      <td>2013-03-18 00:01:00.802</td>\n",
       "      <td>Monday</td>\n",
       "      <td>0</td>\n",
       "    </tr>\n",
       "    <tr>\n",
       "      <th>2</th>\n",
       "      <td>6f8cee7aecd741b28ad303e9bb9cf1eb</td>\n",
       "      <td>20130318000100827</td>\n",
       "      <td>1</td>\n",
       "      <td>519a2259e67cc42c5d422a16a28b5b0a</td>\n",
       "      <td>Mozilla/5.0 (Windows NT 5.1) AppleWebKit/537.1...</td>\n",
       "      <td>123.186.178.*</td>\n",
       "      <td>40</td>\n",
       "      <td>45</td>\n",
       "      <td>1.0</td>\n",
       "      <td>5F97t5E0BTK7XhNrUMpENpn</td>\n",
       "      <td>...</td>\n",
       "      <td>300</td>\n",
       "      <td>13</td>\n",
       "      <td>df6f61b2409f4e2f16b6873a7eb50444</td>\n",
       "      <td>0</td>\n",
       "      <td>0</td>\n",
       "      <td>0</td>\n",
       "      <td>0</td>\n",
       "      <td>2013-03-18 00:01:00.827</td>\n",
       "      <td>Monday</td>\n",
       "      <td>0</td>\n",
       "    </tr>\n",
       "    <tr>\n",
       "      <th>3</th>\n",
       "      <td>58fcbfa5f1c6381a207456157301d9d3</td>\n",
       "      <td>20130318000100837</td>\n",
       "      <td>1</td>\n",
       "      <td>46f2497b959b6e5f331032c5a8985281</td>\n",
       "      <td>Mozilla/4.0 (compatible; MSIE 6.0; Windows NT ...</td>\n",
       "      <td>180.125.218.*</td>\n",
       "      <td>80</td>\n",
       "      <td>85</td>\n",
       "      <td>2.0</td>\n",
       "      <td>trqRTvprB9b7gsz</td>\n",
       "      <td>...</td>\n",
       "      <td>300</td>\n",
       "      <td>24</td>\n",
       "      <td>df6f61b2409f4e2f16b6873a7eb50444</td>\n",
       "      <td>0</td>\n",
       "      <td>0</td>\n",
       "      <td>0</td>\n",
       "      <td>0</td>\n",
       "      <td>2013-03-18 00:01:00.837</td>\n",
       "      <td>Monday</td>\n",
       "      <td>0</td>\n",
       "    </tr>\n",
       "    <tr>\n",
       "      <th>4</th>\n",
       "      <td>f6c97f428a534bc515a52e1eab9b53cf</td>\n",
       "      <td>20130318000100840</td>\n",
       "      <td>1</td>\n",
       "      <td>6fa09a1916b9eb75010f756e4fb276fb</td>\n",
       "      <td>Mozilla/5.0 (Windows NT 6.1) AppleWebKit/536.7...</td>\n",
       "      <td>117.148.123.*</td>\n",
       "      <td>0</td>\n",
       "      <td>0</td>\n",
       "      <td>2.0</td>\n",
       "      <td>trqRTuNygI5ogg5A5SqW</td>\n",
       "      <td>...</td>\n",
       "      <td>300</td>\n",
       "      <td>57</td>\n",
       "      <td>df6f61b2409f4e2f16b6873a7eb50444</td>\n",
       "      <td>0</td>\n",
       "      <td>0</td>\n",
       "      <td>0</td>\n",
       "      <td>0</td>\n",
       "      <td>2013-03-18 00:01:00.840</td>\n",
       "      <td>Monday</td>\n",
       "      <td>0</td>\n",
       "    </tr>\n",
       "  </tbody>\n",
       "</table>\n",
       "<p>5 rows × 29 columns</p>\n",
       "</div>"
      ],
      "text/plain": [
       "                                  0                  1  2  \\\n",
       "0  b006d2236cd8786f8269e3bd60dd795f  20130318000100765  1   \n",
       "1  72f80b647a1ee74dd131c00f5dbb0174  20130318000100802  1   \n",
       "2  6f8cee7aecd741b28ad303e9bb9cf1eb  20130318000100827  1   \n",
       "3  58fcbfa5f1c6381a207456157301d9d3  20130318000100837  1   \n",
       "4  f6c97f428a534bc515a52e1eab9b53cf  20130318000100840  1   \n",
       "\n",
       "                                  3  \\\n",
       "0  c43a65560b3c8adc7cfe24ef38e82398   \n",
       "1  d09e956039c402a4c36513920c06bc84   \n",
       "2  519a2259e67cc42c5d422a16a28b5b0a   \n",
       "3  46f2497b959b6e5f331032c5a8985281   \n",
       "4  6fa09a1916b9eb75010f756e4fb276fb   \n",
       "\n",
       "                                                   4              5   6    7  \\\n",
       "0  Mozilla/4.0 (compatible; MSIE 6.0; Windows NT ...   60.190.192.*  94  100   \n",
       "1  Mozilla/5.0 (Windows NT 6.1) AppleWebKit/537.1...    175.170.0.*  40   42   \n",
       "2  Mozilla/5.0 (Windows NT 5.1) AppleWebKit/537.1...  123.186.178.*  40   45   \n",
       "3  Mozilla/4.0 (compatible; MSIE 6.0; Windows NT ...  180.125.218.*  80   85   \n",
       "4  Mozilla/5.0 (Windows NT 6.1) AppleWebKit/536.7...  117.148.123.*   0    0   \n",
       "\n",
       "     8                        9  ...   19  20  \\\n",
       "0  2.0       eF1gtp57dNFrw9Kbu-  ...  300  13   \n",
       "1  2.0     3F9-GK9SGqs8jdpz5SqW  ...  300  25   \n",
       "2  1.0  5F97t5E0BTK7XhNrUMpENpn  ...  300  13   \n",
       "3  2.0          trqRTvprB9b7gsz  ...  300  24   \n",
       "4  2.0     trqRTuNygI5ogg5A5SqW  ...  300  57   \n",
       "\n",
       "                                 21  22  23 24 25                 datetime  \\\n",
       "0  9f4e2f16b6873a7eb504df6f61b24044   0   0  0  0  2013-03-18 00:01:00.765   \n",
       "1  df6f61b2409f4e2f16b6873a7eb50444   0   0  0  0  2013-03-18 00:01:00.802   \n",
       "2  df6f61b2409f4e2f16b6873a7eb50444   0   0  0  0  2013-03-18 00:01:00.827   \n",
       "3  df6f61b2409f4e2f16b6873a7eb50444   0   0  0  0  2013-03-18 00:01:00.837   \n",
       "4  df6f61b2409f4e2f16b6873a7eb50444   0   0  0  0  2013-03-18 00:01:00.840   \n",
       "\n",
       "  weekday  hour  \n",
       "0  Monday     0  \n",
       "1  Monday     0  \n",
       "2  Monday     0  \n",
       "3  Monday     0  \n",
       "4  Monday     0  \n",
       "\n",
       "[5 rows x 29 columns]"
      ]
     },
     "execution_count": 3,
     "metadata": {},
     "output_type": "execute_result"
    }
   ],
   "source": [
    "df.head()"
   ]
  },
  {
   "cell_type": "code",
   "execution_count": 4,
   "metadata": {},
   "outputs": [
    {
     "data": {
      "text/plain": [
       "Index(['0', '1', '2', '3', '4', '5', '6', '7', '8', '9', '10', '11', '12',\n",
       "       '13', '14', '15', '16', '17', '18', '19', '20', '21', '22', '23', '24',\n",
       "       '25', 'datetime', 'weekday', 'hour'],\n",
       "      dtype='object')"
      ]
     },
     "execution_count": 4,
     "metadata": {},
     "output_type": "execute_result"
    }
   ],
   "source": [
    "df.columns"
   ]
  },
  {
   "cell_type": "code",
   "execution_count": 5,
   "metadata": {},
   "outputs": [
    {
     "data": {
      "text/html": [
       "<div>\n",
       "<style scoped>\n",
       "    .dataframe tbody tr th:only-of-type {\n",
       "        vertical-align: middle;\n",
       "    }\n",
       "\n",
       "    .dataframe tbody tr th {\n",
       "        vertical-align: top;\n",
       "    }\n",
       "\n",
       "    .dataframe thead th {\n",
       "        text-align: right;\n",
       "    }\n",
       "</style>\n",
       "<table border=\"1\" class=\"dataframe\">\n",
       "  <thead>\n",
       "    <tr style=\"text-align: right;\">\n",
       "      <th></th>\n",
       "      <th>bidID</th>\n",
       "      <th>timestamp</th>\n",
       "      <th>logtype</th>\n",
       "      <th>iPinYouID</th>\n",
       "      <th>userAgent</th>\n",
       "      <th>IP</th>\n",
       "      <th>region</th>\n",
       "      <th>city</th>\n",
       "      <th>adExchange</th>\n",
       "      <th>domain</th>\n",
       "      <th>...</th>\n",
       "      <th>biddingPrice</th>\n",
       "      <th>payingPrice</th>\n",
       "      <th>keyPageURL</th>\n",
       "      <th>advertiserID</th>\n",
       "      <th>userTags</th>\n",
       "      <th>numClick</th>\n",
       "      <th>conversion</th>\n",
       "      <th>datetime</th>\n",
       "      <th>weekday</th>\n",
       "      <th>hour</th>\n",
       "    </tr>\n",
       "  </thead>\n",
       "  <tbody>\n",
       "    <tr>\n",
       "      <th>0</th>\n",
       "      <td>b006d2236cd8786f8269e3bd60dd795f</td>\n",
       "      <td>20130318000100765</td>\n",
       "      <td>1</td>\n",
       "      <td>c43a65560b3c8adc7cfe24ef38e82398</td>\n",
       "      <td>Mozilla/4.0 (compatible; MSIE 6.0; Windows NT ...</td>\n",
       "      <td>60.190.192.*</td>\n",
       "      <td>94</td>\n",
       "      <td>100</td>\n",
       "      <td>2.0</td>\n",
       "      <td>eF1gtp57dNFrw9Kbu-</td>\n",
       "      <td>...</td>\n",
       "      <td>300</td>\n",
       "      <td>13</td>\n",
       "      <td>9f4e2f16b6873a7eb504df6f61b24044</td>\n",
       "      <td>0</td>\n",
       "      <td>0</td>\n",
       "      <td>0</td>\n",
       "      <td>0</td>\n",
       "      <td>2013-03-18 00:01:00.765</td>\n",
       "      <td>Monday</td>\n",
       "      <td>0</td>\n",
       "    </tr>\n",
       "    <tr>\n",
       "      <th>1</th>\n",
       "      <td>72f80b647a1ee74dd131c00f5dbb0174</td>\n",
       "      <td>20130318000100802</td>\n",
       "      <td>1</td>\n",
       "      <td>d09e956039c402a4c36513920c06bc84</td>\n",
       "      <td>Mozilla/5.0 (Windows NT 6.1) AppleWebKit/537.1...</td>\n",
       "      <td>175.170.0.*</td>\n",
       "      <td>40</td>\n",
       "      <td>42</td>\n",
       "      <td>2.0</td>\n",
       "      <td>3F9-GK9SGqs8jdpz5SqW</td>\n",
       "      <td>...</td>\n",
       "      <td>300</td>\n",
       "      <td>25</td>\n",
       "      <td>df6f61b2409f4e2f16b6873a7eb50444</td>\n",
       "      <td>0</td>\n",
       "      <td>0</td>\n",
       "      <td>0</td>\n",
       "      <td>0</td>\n",
       "      <td>2013-03-18 00:01:00.802</td>\n",
       "      <td>Monday</td>\n",
       "      <td>0</td>\n",
       "    </tr>\n",
       "    <tr>\n",
       "      <th>2</th>\n",
       "      <td>6f8cee7aecd741b28ad303e9bb9cf1eb</td>\n",
       "      <td>20130318000100827</td>\n",
       "      <td>1</td>\n",
       "      <td>519a2259e67cc42c5d422a16a28b5b0a</td>\n",
       "      <td>Mozilla/5.0 (Windows NT 5.1) AppleWebKit/537.1...</td>\n",
       "      <td>123.186.178.*</td>\n",
       "      <td>40</td>\n",
       "      <td>45</td>\n",
       "      <td>1.0</td>\n",
       "      <td>5F97t5E0BTK7XhNrUMpENpn</td>\n",
       "      <td>...</td>\n",
       "      <td>300</td>\n",
       "      <td>13</td>\n",
       "      <td>df6f61b2409f4e2f16b6873a7eb50444</td>\n",
       "      <td>0</td>\n",
       "      <td>0</td>\n",
       "      <td>0</td>\n",
       "      <td>0</td>\n",
       "      <td>2013-03-18 00:01:00.827</td>\n",
       "      <td>Monday</td>\n",
       "      <td>0</td>\n",
       "    </tr>\n",
       "    <tr>\n",
       "      <th>3</th>\n",
       "      <td>58fcbfa5f1c6381a207456157301d9d3</td>\n",
       "      <td>20130318000100837</td>\n",
       "      <td>1</td>\n",
       "      <td>46f2497b959b6e5f331032c5a8985281</td>\n",
       "      <td>Mozilla/4.0 (compatible; MSIE 6.0; Windows NT ...</td>\n",
       "      <td>180.125.218.*</td>\n",
       "      <td>80</td>\n",
       "      <td>85</td>\n",
       "      <td>2.0</td>\n",
       "      <td>trqRTvprB9b7gsz</td>\n",
       "      <td>...</td>\n",
       "      <td>300</td>\n",
       "      <td>24</td>\n",
       "      <td>df6f61b2409f4e2f16b6873a7eb50444</td>\n",
       "      <td>0</td>\n",
       "      <td>0</td>\n",
       "      <td>0</td>\n",
       "      <td>0</td>\n",
       "      <td>2013-03-18 00:01:00.837</td>\n",
       "      <td>Monday</td>\n",
       "      <td>0</td>\n",
       "    </tr>\n",
       "    <tr>\n",
       "      <th>4</th>\n",
       "      <td>f6c97f428a534bc515a52e1eab9b53cf</td>\n",
       "      <td>20130318000100840</td>\n",
       "      <td>1</td>\n",
       "      <td>6fa09a1916b9eb75010f756e4fb276fb</td>\n",
       "      <td>Mozilla/5.0 (Windows NT 6.1) AppleWebKit/536.7...</td>\n",
       "      <td>117.148.123.*</td>\n",
       "      <td>0</td>\n",
       "      <td>0</td>\n",
       "      <td>2.0</td>\n",
       "      <td>trqRTuNygI5ogg5A5SqW</td>\n",
       "      <td>...</td>\n",
       "      <td>300</td>\n",
       "      <td>57</td>\n",
       "      <td>df6f61b2409f4e2f16b6873a7eb50444</td>\n",
       "      <td>0</td>\n",
       "      <td>0</td>\n",
       "      <td>0</td>\n",
       "      <td>0</td>\n",
       "      <td>2013-03-18 00:01:00.840</td>\n",
       "      <td>Monday</td>\n",
       "      <td>0</td>\n",
       "    </tr>\n",
       "  </tbody>\n",
       "</table>\n",
       "<p>5 rows × 29 columns</p>\n",
       "</div>"
      ],
      "text/plain": [
       "                              bidID          timestamp  logtype  \\\n",
       "0  b006d2236cd8786f8269e3bd60dd795f  20130318000100765        1   \n",
       "1  72f80b647a1ee74dd131c00f5dbb0174  20130318000100802        1   \n",
       "2  6f8cee7aecd741b28ad303e9bb9cf1eb  20130318000100827        1   \n",
       "3  58fcbfa5f1c6381a207456157301d9d3  20130318000100837        1   \n",
       "4  f6c97f428a534bc515a52e1eab9b53cf  20130318000100840        1   \n",
       "\n",
       "                          iPinYouID  \\\n",
       "0  c43a65560b3c8adc7cfe24ef38e82398   \n",
       "1  d09e956039c402a4c36513920c06bc84   \n",
       "2  519a2259e67cc42c5d422a16a28b5b0a   \n",
       "3  46f2497b959b6e5f331032c5a8985281   \n",
       "4  6fa09a1916b9eb75010f756e4fb276fb   \n",
       "\n",
       "                                           userAgent             IP  region  \\\n",
       "0  Mozilla/4.0 (compatible; MSIE 6.0; Windows NT ...   60.190.192.*      94   \n",
       "1  Mozilla/5.0 (Windows NT 6.1) AppleWebKit/537.1...    175.170.0.*      40   \n",
       "2  Mozilla/5.0 (Windows NT 5.1) AppleWebKit/537.1...  123.186.178.*      40   \n",
       "3  Mozilla/4.0 (compatible; MSIE 6.0; Windows NT ...  180.125.218.*      80   \n",
       "4  Mozilla/5.0 (Windows NT 6.1) AppleWebKit/536.7...  117.148.123.*       0   \n",
       "\n",
       "   city  adExchange                   domain  ... biddingPrice  payingPrice  \\\n",
       "0   100         2.0       eF1gtp57dNFrw9Kbu-  ...          300           13   \n",
       "1    42         2.0     3F9-GK9SGqs8jdpz5SqW  ...          300           25   \n",
       "2    45         1.0  5F97t5E0BTK7XhNrUMpENpn  ...          300           13   \n",
       "3    85         2.0          trqRTvprB9b7gsz  ...          300           24   \n",
       "4     0         2.0     trqRTuNygI5ogg5A5SqW  ...          300           57   \n",
       "\n",
       "                         keyPageURL  advertiserID  userTags numClick  \\\n",
       "0  9f4e2f16b6873a7eb504df6f61b24044             0         0        0   \n",
       "1  df6f61b2409f4e2f16b6873a7eb50444             0         0        0   \n",
       "2  df6f61b2409f4e2f16b6873a7eb50444             0         0        0   \n",
       "3  df6f61b2409f4e2f16b6873a7eb50444             0         0        0   \n",
       "4  df6f61b2409f4e2f16b6873a7eb50444             0         0        0   \n",
       "\n",
       "  conversion                 datetime weekday  hour  \n",
       "0          0  2013-03-18 00:01:00.765  Monday     0  \n",
       "1          0  2013-03-18 00:01:00.802  Monday     0  \n",
       "2          0  2013-03-18 00:01:00.827  Monday     0  \n",
       "3          0  2013-03-18 00:01:00.837  Monday     0  \n",
       "4          0  2013-03-18 00:01:00.840  Monday     0  \n",
       "\n",
       "[5 rows x 29 columns]"
      ]
     },
     "execution_count": 5,
     "metadata": {},
     "output_type": "execute_result"
    }
   ],
   "source": [
    "df = df.rename(columns={'0':'bidID', '1':\"timestamp\", '2':\"logtype\", '3':\"iPinYouID\", '4':\"userAgent\",\n",
    "                        '5':\"IP\", '6':\"region\", '7':\"city\", '8':\"adExchange\", '9':\"domain\", '10': \"URL\",\n",
    "                        '11': \"URLID\", '12': \"adSlotID\", '13':\"width\", '14':\"height\", '15':\"visibility\",\n",
    "                        '16': \"format\", '17': \"floorPrice\", '18': \"creativeID\", '19': \"biddingPrice\",\n",
    "                        '20': \"payingPrice\", '21': \"keyPageURL\", '22': \"advertiserID\", '23': \"userTags\",\n",
    "                        '24': \"numClick\", '25': \"conversion\"})\n",
    "df.head()"
   ]
  },
  {
   "cell_type": "code",
   "execution_count": 6,
   "metadata": {},
   "outputs": [],
   "source": [
    "# head to csv\n",
    "df.head().to_csv('/Users/yujinlee/downloads/sample_before_normalize.txt', sep='\\t', index=False)"
   ]
  },
  {
   "cell_type": "code",
   "execution_count": 7,
   "metadata": {},
   "outputs": [],
   "source": [
    "import numpy as np\n",
    "# convert number of clicks to binary\n",
    "df['numClick'] = np.where(df['numClick'] > 0, 1, 0)"
   ]
  },
  {
   "cell_type": "code",
   "execution_count": 8,
   "metadata": {},
   "outputs": [
    {
     "data": {
      "text/plain": [
       "bidID            object\n",
       "timestamp         int64\n",
       "logtype           int64\n",
       "iPinYouID        object\n",
       "userAgent        object\n",
       "IP               object\n",
       "region            int64\n",
       "city              int64\n",
       "adExchange      float64\n",
       "domain           object\n",
       "URL              object\n",
       "URLID           float64\n",
       "adSlotID         object\n",
       "width             int64\n",
       "height            int64\n",
       "visibility       object\n",
       "format           object\n",
       "floorPrice        int64\n",
       "creativeID       object\n",
       "biddingPrice      int64\n",
       "payingPrice       int64\n",
       "keyPageURL       object\n",
       "advertiserID      int64\n",
       "userTags         object\n",
       "numClick          int64\n",
       "conversion        int64\n",
       "datetime         object\n",
       "weekday          object\n",
       "hour              int64\n",
       "dtype: object"
      ]
     },
     "execution_count": 8,
     "metadata": {},
     "output_type": "execute_result"
    }
   ],
   "source": [
    "df.dtypes"
   ]
  },
  {
   "cell_type": "code",
   "execution_count": 9,
   "metadata": {},
   "outputs": [],
   "source": [
    "numeric_column = pd.to_numeric(df['visibility'], errors='coerce')"
   ]
  },
  {
   "cell_type": "code",
   "execution_count": 10,
   "metadata": {},
   "outputs": [
    {
     "data": {
      "text/plain": [
       "5116016    OtherView\n",
       "5116017    FirstView\n",
       "5116018    OtherView\n",
       "5116019           Na\n",
       "5116020    OtherView\n",
       "             ...    \n",
       "6695097           Na\n",
       "6695098    OtherView\n",
       "6695099           Na\n",
       "6695100    OtherView\n",
       "6695101           Na\n",
       "Name: visibility, Length: 1579086, dtype: object"
      ]
     },
     "execution_count": 10,
     "metadata": {},
     "output_type": "execute_result"
    }
   ],
   "source": [
    "df['visibility'][numeric_column.isnull()]"
   ]
  },
  {
   "cell_type": "code",
   "execution_count": 11,
   "metadata": {},
   "outputs": [
    {
     "data": {
      "text/plain": [
       "array([0, 2, 1, 255, '0', '2', 'OtherView', 'FirstView', 'Na',\n",
       "       'ThirdView', 'SecondView', 'FourthView', 'FifthView'], dtype=object)"
      ]
     },
     "execution_count": 11,
     "metadata": {},
     "output_type": "execute_result"
    }
   ],
   "source": [
    "df['visibility'].unique()"
   ]
  },
  {
   "cell_type": "code",
   "execution_count": 12,
   "metadata": {},
   "outputs": [
    {
     "data": {
      "text/html": [
       "<div>\n",
       "<style scoped>\n",
       "    .dataframe tbody tr th:only-of-type {\n",
       "        vertical-align: middle;\n",
       "    }\n",
       "\n",
       "    .dataframe tbody tr th {\n",
       "        vertical-align: top;\n",
       "    }\n",
       "\n",
       "    .dataframe thead th {\n",
       "        text-align: right;\n",
       "    }\n",
       "</style>\n",
       "<table border=\"1\" class=\"dataframe\">\n",
       "  <thead>\n",
       "    <tr style=\"text-align: right;\">\n",
       "      <th></th>\n",
       "      <th>region</th>\n",
       "      <th>city</th>\n",
       "      <th>adExchange</th>\n",
       "      <th>width</th>\n",
       "      <th>height</th>\n",
       "      <th>floorPrice</th>\n",
       "      <th>numClick</th>\n",
       "    </tr>\n",
       "  </thead>\n",
       "  <tbody>\n",
       "    <tr>\n",
       "      <th>count</th>\n",
       "      <td>6.695102e+06</td>\n",
       "      <td>6.695102e+06</td>\n",
       "      <td>6.539039e+06</td>\n",
       "      <td>6.695102e+06</td>\n",
       "      <td>6.695102e+06</td>\n",
       "      <td>6.695102e+06</td>\n",
       "      <td>6.695102e+06</td>\n",
       "    </tr>\n",
       "    <tr>\n",
       "      <th>mean</th>\n",
       "      <td>1.471080e+02</td>\n",
       "      <td>1.513030e+02</td>\n",
       "      <td>2.065239e+00</td>\n",
       "      <td>5.344556e+02</td>\n",
       "      <td>1.972643e+02</td>\n",
       "      <td>2.141370e+01</td>\n",
       "      <td>7.378528e-04</td>\n",
       "    </tr>\n",
       "    <tr>\n",
       "      <th>std</th>\n",
       "      <td>1.019561e+02</td>\n",
       "      <td>1.029728e+02</td>\n",
       "      <td>8.636732e-01</td>\n",
       "      <td>3.112182e+02</td>\n",
       "      <td>1.298185e+02</td>\n",
       "      <td>3.377694e+01</td>\n",
       "      <td>2.715343e-02</td>\n",
       "    </tr>\n",
       "    <tr>\n",
       "      <th>min</th>\n",
       "      <td>0.000000e+00</td>\n",
       "      <td>0.000000e+00</td>\n",
       "      <td>1.000000e+00</td>\n",
       "      <td>1.200000e+02</td>\n",
       "      <td>5.000000e+01</td>\n",
       "      <td>0.000000e+00</td>\n",
       "      <td>0.000000e+00</td>\n",
       "    </tr>\n",
       "    <tr>\n",
       "      <th>25%</th>\n",
       "      <td>7.900000e+01</td>\n",
       "      <td>7.900000e+01</td>\n",
       "      <td>1.000000e+00</td>\n",
       "      <td>3.000000e+02</td>\n",
       "      <td>9.000000e+01</td>\n",
       "      <td>0.000000e+00</td>\n",
       "      <td>0.000000e+00</td>\n",
       "    </tr>\n",
       "    <tr>\n",
       "      <th>50%</th>\n",
       "      <td>1.460000e+02</td>\n",
       "      <td>1.480000e+02</td>\n",
       "      <td>2.000000e+00</td>\n",
       "      <td>3.360000e+02</td>\n",
       "      <td>2.500000e+02</td>\n",
       "      <td>5.000000e+00</td>\n",
       "      <td>0.000000e+00</td>\n",
       "    </tr>\n",
       "    <tr>\n",
       "      <th>75%</th>\n",
       "      <td>2.160000e+02</td>\n",
       "      <td>2.220000e+02</td>\n",
       "      <td>3.000000e+00</td>\n",
       "      <td>9.500000e+02</td>\n",
       "      <td>2.500000e+02</td>\n",
       "      <td>3.100000e+01</td>\n",
       "      <td>0.000000e+00</td>\n",
       "    </tr>\n",
       "    <tr>\n",
       "      <th>max</th>\n",
       "      <td>3.950000e+02</td>\n",
       "      <td>3.990000e+02</td>\n",
       "      <td>4.000000e+00</td>\n",
       "      <td>1.000000e+03</td>\n",
       "      <td>6.000000e+02</td>\n",
       "      <td>2.990000e+02</td>\n",
       "      <td>1.000000e+00</td>\n",
       "    </tr>\n",
       "  </tbody>\n",
       "</table>\n",
       "</div>"
      ],
      "text/plain": [
       "             region          city    adExchange         width        height  \\\n",
       "count  6.695102e+06  6.695102e+06  6.539039e+06  6.695102e+06  6.695102e+06   \n",
       "mean   1.471080e+02  1.513030e+02  2.065239e+00  5.344556e+02  1.972643e+02   \n",
       "std    1.019561e+02  1.029728e+02  8.636732e-01  3.112182e+02  1.298185e+02   \n",
       "min    0.000000e+00  0.000000e+00  1.000000e+00  1.200000e+02  5.000000e+01   \n",
       "25%    7.900000e+01  7.900000e+01  1.000000e+00  3.000000e+02  9.000000e+01   \n",
       "50%    1.460000e+02  1.480000e+02  2.000000e+00  3.360000e+02  2.500000e+02   \n",
       "75%    2.160000e+02  2.220000e+02  3.000000e+00  9.500000e+02  2.500000e+02   \n",
       "max    3.950000e+02  3.990000e+02  4.000000e+00  1.000000e+03  6.000000e+02   \n",
       "\n",
       "         floorPrice      numClick  \n",
       "count  6.695102e+06  6.695102e+06  \n",
       "mean   2.141370e+01  7.378528e-04  \n",
       "std    3.377694e+01  2.715343e-02  \n",
       "min    0.000000e+00  0.000000e+00  \n",
       "25%    0.000000e+00  0.000000e+00  \n",
       "50%    5.000000e+00  0.000000e+00  \n",
       "75%    3.100000e+01  0.000000e+00  \n",
       "max    2.990000e+02  1.000000e+00  "
      ]
     },
     "execution_count": 12,
     "metadata": {},
     "output_type": "execute_result"
    }
   ],
   "source": [
    "df[[\"region\", \"city\", \"adExchange\", \"width\", \"height\", \"floorPrice\",'numClick']].describe()"
   ]
  },
  {
   "cell_type": "code",
   "execution_count": 13,
   "metadata": {},
   "outputs": [
    {
     "data": {
      "text/plain": [
       "region             0\n",
       "city               0\n",
       "adExchange    156063\n",
       "width              0\n",
       "height             0\n",
       "floorPrice         0\n",
       "dtype: int64"
      ]
     },
     "execution_count": 13,
     "metadata": {},
     "output_type": "execute_result"
    }
   ],
   "source": [
    "df[[\"region\", \"city\", \"adExchange\", \"width\", \"height\", \"floorPrice\"]].isnull().sum()"
   ]
  },
  {
   "cell_type": "code",
   "execution_count": 14,
   "metadata": {},
   "outputs": [
    {
     "data": {
      "text/plain": [
       "array([ 2.,  1.,  3.,  4., nan])"
      ]
     },
     "execution_count": 14,
     "metadata": {},
     "output_type": "execute_result"
    }
   ],
   "source": [
    "df['adExchange'].unique()"
   ]
  },
  {
   "cell_type": "code",
   "execution_count": 15,
   "metadata": {},
   "outputs": [
    {
     "data": {
      "text/plain": [
       "array([2., 1., 3., 4., 0.])"
      ]
     },
     "execution_count": 15,
     "metadata": {},
     "output_type": "execute_result"
    }
   ],
   "source": [
    "df['adExchange'].fillna(0, inplace=True)\n",
    "df['adExchange'].unique()"
   ]
  },
  {
   "cell_type": "markdown",
   "metadata": {},
   "source": [
    "# df to csv\n",
    "df.to_csv('/Users/yujinlee/downloads/combined_training_before_normalize.txt', sep='\\t', index=False)"
   ]
  },
  {
   "cell_type": "code",
   "execution_count": 47,
   "metadata": {},
   "outputs": [],
   "source": [
    "# df to csv\n",
    "df.to_csv('/Users/yujinlee/downloads/combined_training_before_normalize.txt', sep='\\t', index=False)"
   ]
  },
  {
   "cell_type": "code",
   "execution_count": 17,
   "metadata": {},
   "outputs": [],
   "source": [
    "from sklearn.preprocessing import StandardScaler, OneHotEncoder\n",
    "from sklearn.compose import ColumnTransformer\n",
    "from sklearn.pipeline import Pipeline\n",
    "\n",
    "features = df[['region', 'city', 'adExchange', 'width', 'height', 'floorPrice', 'weekday', 'hour']]\n",
    "target = df['numClick']\n",
    "\n",
    "numerical_cols = ['region', 'city', 'width', 'height', 'floorPrice', 'hour','adExchange']\n",
    "categorical_cols = ['weekday']  # Assuming 'adExchange' needs encoding if non-numeric"
   ]
  },
  {
   "cell_type": "code",
   "execution_count": 25,
   "metadata": {},
   "outputs": [
    {
     "data": {
      "text/html": [
       "<div>\n",
       "<style scoped>\n",
       "    .dataframe tbody tr th:only-of-type {\n",
       "        vertical-align: middle;\n",
       "    }\n",
       "\n",
       "    .dataframe tbody tr th {\n",
       "        vertical-align: top;\n",
       "    }\n",
       "\n",
       "    .dataframe thead th {\n",
       "        text-align: right;\n",
       "    }\n",
       "</style>\n",
       "<table border=\"1\" class=\"dataframe\">\n",
       "  <thead>\n",
       "    <tr style=\"text-align: right;\">\n",
       "      <th></th>\n",
       "      <th>region</th>\n",
       "      <th>city</th>\n",
       "      <th>adExchange</th>\n",
       "      <th>width</th>\n",
       "      <th>height</th>\n",
       "      <th>floorPrice</th>\n",
       "      <th>weekday</th>\n",
       "      <th>hour</th>\n",
       "    </tr>\n",
       "  </thead>\n",
       "  <tbody>\n",
       "    <tr>\n",
       "      <th>6695097</th>\n",
       "      <td>216</td>\n",
       "      <td>222</td>\n",
       "      <td>3.0</td>\n",
       "      <td>980</td>\n",
       "      <td>90</td>\n",
       "      <td>20</td>\n",
       "      <td>Monday</td>\n",
       "      <td>16</td>\n",
       "    </tr>\n",
       "    <tr>\n",
       "      <th>6695098</th>\n",
       "      <td>55</td>\n",
       "      <td>56</td>\n",
       "      <td>2.0</td>\n",
       "      <td>200</td>\n",
       "      <td>200</td>\n",
       "      <td>4</td>\n",
       "      <td>Monday</td>\n",
       "      <td>11</td>\n",
       "    </tr>\n",
       "    <tr>\n",
       "      <th>6695099</th>\n",
       "      <td>216</td>\n",
       "      <td>227</td>\n",
       "      <td>3.0</td>\n",
       "      <td>180</td>\n",
       "      <td>600</td>\n",
       "      <td>20</td>\n",
       "      <td>Monday</td>\n",
       "      <td>11</td>\n",
       "    </tr>\n",
       "    <tr>\n",
       "      <th>6695100</th>\n",
       "      <td>253</td>\n",
       "      <td>254</td>\n",
       "      <td>2.0</td>\n",
       "      <td>336</td>\n",
       "      <td>280</td>\n",
       "      <td>5</td>\n",
       "      <td>Monday</td>\n",
       "      <td>12</td>\n",
       "    </tr>\n",
       "    <tr>\n",
       "      <th>6695101</th>\n",
       "      <td>146</td>\n",
       "      <td>159</td>\n",
       "      <td>3.0</td>\n",
       "      <td>1000</td>\n",
       "      <td>90</td>\n",
       "      <td>20</td>\n",
       "      <td>Monday</td>\n",
       "      <td>17</td>\n",
       "    </tr>\n",
       "  </tbody>\n",
       "</table>\n",
       "</div>"
      ],
      "text/plain": [
       "         region  city  adExchange  width  height  floorPrice weekday  hour\n",
       "6695097     216   222         3.0    980      90          20  Monday    16\n",
       "6695098      55    56         2.0    200     200           4  Monday    11\n",
       "6695099     216   227         3.0    180     600          20  Monday    11\n",
       "6695100     253   254         2.0    336     280           5  Monday    12\n",
       "6695101     146   159         3.0   1000      90          20  Monday    17"
      ]
     },
     "execution_count": 25,
     "metadata": {},
     "output_type": "execute_result"
    }
   ],
   "source": [
    "features.tail()"
   ]
  },
  {
   "cell_type": "code",
   "execution_count": 40,
   "metadata": {},
   "outputs": [
    {
     "data": {
      "text/plain": [
       "(6695102, 14)"
      ]
     },
     "execution_count": 40,
     "metadata": {},
     "output_type": "execute_result"
    }
   ],
   "source": [
    "# Creating transformers for numerical and categorical data\n",
    "numeric_transformer = Pipeline(steps=[\n",
    "    ('scaler', StandardScaler())\n",
    "])\n",
    "\n",
    "categorical_transformer = Pipeline(steps=[\n",
    "    ('onehot', OneHotEncoder(handle_unknown='ignore'))\n",
    "])\n",
    "\n",
    "# Combining transformers into a ColumnTransformer\n",
    "preprocessor = ColumnTransformer(\n",
    "    transformers=[\n",
    "        ('num', numeric_transformer, numerical_cols),\n",
    "        ('cat', categorical_transformer, categorical_cols)\n",
    "    ])\n",
    "\n",
    "# Applying the transformations\n",
    "X_preprocessed = preprocessor.fit_transform(features)\n",
    "X_preprocessed.shape  # Display the shape of the transformed feature matrix to confirm completion\n"
   ]
  },
  {
   "cell_type": "code",
   "execution_count": 41,
   "metadata": {},
   "outputs": [
    {
     "data": {
      "text/plain": [
       "<AxesSubplot:>"
      ]
     },
     "execution_count": 41,
     "metadata": {},
     "output_type": "execute_result"
    },
    {
     "data": {
      "image/png": "[encoded data removed]",
      "text/plain": [
       "<Figure size 432x288 with 1 Axes>"
      ]
     },
     "metadata": {
      "needs_background": "light"
     },
     "output_type": "display_data"
    }
   ],
   "source": [
    "pd.Series(X_preprocessed[:,-1]).hist()"
   ]
  },
  {
   "cell_type": "code",
   "execution_count": 42,
   "metadata": {},
   "outputs": [
    {
     "name": "stderr",
     "output_type": "stream",
     "text": [
      "/Users/yujinlee/opt/anaconda3/lib/python3.9/site-packages/sklearn/metrics/_classification.py:1318: UndefinedMetricWarning: Precision and F-score are ill-defined and being set to 0.0 in labels with no predicted samples. Use `zero_division` parameter to control this behavior.\n",
      "  _warn_prf(average, modifier, msg_start, len(result))\n",
      "/Users/yujinlee/opt/anaconda3/lib/python3.9/site-packages/sklearn/metrics/_classification.py:1318: UndefinedMetricWarning: Precision and F-score are ill-defined and being set to 0.0 in labels with no predicted samples. Use `zero_division` parameter to control this behavior.\n",
      "  _warn_prf(average, modifier, msg_start, len(result))\n"
     ]
    },
    {
     "name": "stdout",
     "output_type": "stream",
     "text": [
      "Coefficients: [[ 0.32184193 -0.33938767  0.00865819  0.01192459  0.16994901  0.01982248\n",
      "  -0.15417052 -0.19533879 -0.24058476 -0.01714379  0.89247962 -0.17634483\n",
      "  -0.08402347 -0.19860977]]\n",
      "Intercept: [-7.1269368]\n"
     ]
    },
    {
     "name": "stderr",
     "output_type": "stream",
     "text": [
      "/Users/yujinlee/opt/anaconda3/lib/python3.9/site-packages/sklearn/metrics/_classification.py:1318: UndefinedMetricWarning: Precision and F-score are ill-defined and being set to 0.0 in labels with no predicted samples. Use `zero_division` parameter to control this behavior.\n",
      "  _warn_prf(average, modifier, msg_start, len(result))\n"
     ]
    }
   ],
   "source": [
    "from sklearn.model_selection import train_test_split\n",
    "from sklearn.linear_model import LogisticRegression\n",
    "from sklearn.metrics import accuracy_score, confusion_matrix, classification_report\n",
    "\n",
    "# Split the data into training and testing sets (70% train, 30% test)\n",
    "X_train, X_test, y_train, y_test = train_test_split(X_preprocessed, target, test_size=0.3, random_state=42)\n",
    "\n",
    "# Initialize the Logistic Regression model\n",
    "logistic_model = LogisticRegression()\n",
    "\n",
    "# Train the model\n",
    "logistic_model.fit(X_train, y_train)\n",
    "\n",
    "# Predict on the testing set\n",
    "y_pred = logistic_model.predict(X_test)\n",
    "\n",
    "# Evaluate the model\n",
    "accuracy = accuracy_score(y_test, y_pred)\n",
    "conf_matrix = confusion_matrix(y_test, y_pred)\n",
    "report = classification_report(y_test, y_pred)\n",
    "\n",
    "# Predict on the testing set\n",
    "y_pred = logistic_model.predict(X_test)\n",
    "print(\"Coefficients:\", logistic_model.coef_)\n",
    "print(\"Intercept:\", logistic_model.intercept_)\n"
   ]
  },
  {
   "cell_type": "code",
   "execution_count": 46,
   "metadata": {},
   "outputs": [
    {
     "name": "stdout",
     "output_type": "stream",
     "text": [
      "Accuracy: 0.9992706112078927\n",
      "Confusion Matrix:\n",
      " [[2007066       0]\n",
      " [   1465       0]]\n",
      "Classification Report:\n",
      "               precision    recall  f1-score   support\n",
      "\n",
      "           0       1.00      1.00      1.00   2007066\n",
      "           1       0.00      0.00      0.00      1465\n",
      "\n",
      "    accuracy                           1.00   2008531\n",
      "   macro avg       0.50      0.50      0.50   2008531\n",
      "weighted avg       1.00      1.00      1.00   2008531\n",
      "\n"
     ]
    }
   ],
   "source": [
    "print(\"Accuracy:\", accuracy)\n",
    "print(\"Confusion Matrix:\\n\", conf_matrix)\n",
    "print(\"Classification Report:\\n\", report)"
   ]
  },
  {
   "cell_type": "code",
   "execution_count": 44,
   "metadata": {},
   "outputs": [
    {
     "name": "stdout",
     "output_type": "stream",
     "text": [
      "              Feature  Coefficient\n",
      "10     weekday_Sunday     0.892480\n",
      "1                city    -0.339388\n",
      "0              region     0.321842\n",
      "8      weekday_Monday    -0.240585\n",
      "13  weekday_Wednesday    -0.198610\n",
      "7      weekday_Friday    -0.195339\n",
      "11   weekday_Thursday    -0.176345\n",
      "4          floorPrice     0.169949\n",
      "6          adExchange    -0.154171\n",
      "12    weekday_Tuesday    -0.084023\n",
      "5                hour     0.019822\n",
      "9    weekday_Saturday    -0.017144\n",
      "3              height     0.011925\n",
      "2               width     0.008658\n"
     ]
    }
   ],
   "source": [
    "# Access the feature names from the one-hot encoder and numerical features\n",
    "feature_names = (numerical_cols +\n",
    "                 list(preprocessor.named_transformers_['cat'].named_steps['onehot']\n",
    "                      .get_feature_names_out(categorical_cols)))\n",
    "\n",
    "# Get the coefficients from the logistic regression model\n",
    "coefficients = logistic_model.coef_[0]\n",
    "\n",
    "# Create a DataFrame to view the feature names alongside their corresponding coefficients\n",
    "import pandas as pd\n",
    "feature_importance = pd.DataFrame({'Feature': feature_names, 'Coefficient': coefficients})\n",
    "\n",
    "# Sort the features by the absolute values of their coefficients for better visibility\n",
    "feature_importance.sort_values(by='Coefficient', key=abs, ascending=False, inplace=True)\n",
    "\n",
    "print(feature_importance)\n"
   ]
  },
  {
   "cell_type": "code",
   "execution_count": null,
   "metadata": {},
   "outputs": [],
   "source": []
  }
 ],
 "metadata": {
  "kernelspec": {
   "display_name": "base",
   "language": "python",
   "name": "python3"
  },
  "language_info": {
   "codemirror_mode": {
    "name": "ipython",
    "version": 3
   },
   "file_extension": ".py",
   "mimetype": "text/x-python",
   "name": "python",
   "nbconvert_exporter": "python",
   "pygments_lexer": "ipython3",
   "version": "3.9.12"
  }
 },
 "nbformat": 4,
 "nbformat_minor": 2
}
