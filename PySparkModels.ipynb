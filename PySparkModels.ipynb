{
 "cells": [
  {
   "cell_type": "code",
   "execution_count": null,
   "metadata": {},
   "outputs": [],
   "source": [
    "from pyspark.sql import SparkSession"
   ]
  },
  {
   "cell_type": "code",
   "execution_count": null,
   "metadata": {},
   "outputs": [],
   "source": [
    "spark = SparkSession.builder.appName(\"MLAnalysisAdClicks\").getOrCreate()\n",
    "sc = spark.sparkContext"
   ]
  },
  {
   "cell_type": "code",
   "execution_count": null,
   "metadata": {},
   "outputs": [],
   "source": [
    "# Load normalized data\n",
    "df = spark.read.option(\"delimiter\", \"\\t\") \\\n",
    "    .option(\"header\", \"true\") \\\n",
    "    .option(\"inferSchema\", \"true\") \\\n",
    "    .csv(\"/home/yl9709/combined_training_before_normalize.txt\")\n",
    "\n",
    "# Select necessary columns and cast them as needed\n",
    "from pyspark.sql.functions import col\n",
    "\n",
    "df = df.select(\n",
    "    col(\"numClick\").cast(\"int\"),\n",
    "    col(\"region\").cast(\"int\"),\n",
    "    col(\"city\").cast(\"int\"),\n",
    "    col(\"adExchange\").cast(\"int\"),\n",
    "    col(\"width\").cast(\"int\"),\n",
    "    col(\"height\").cast(\"int\"),\n",
    "    col(\"floorPrice\").cast(\"int\"),\n",
    "    col(\"weekday\"),\n",
    "    col(\"hour\").cast(\"int\")\n",
    ")\n",
    "\n",
    "# Check the data\n",
    "df.show(5)"
   ]
  },
  {
   "cell_type": "code",
   "execution_count": null,
   "metadata": {},
   "outputs": [],
   "source": [
    "from pyspark.ml.feature import StringIndexer, OneHotEncoder, VectorAssembler\n",
    "\n",
    "# Indexing and encoding categorical columns\n",
    "categoricalColumns = ['region', 'city', 'adExchange', 'weekday']\n",
    "stages = []\n",
    "\n",
    "for categoricalCol in categoricalColumns:\n",
    "    stringIndexer = StringIndexer(inputCol=categoricalCol, outputCol=categoricalCol + \"Index\")\n",
    "    encoder = OneHotEncoder(inputCols=[stringIndexer.getOutputCol()], outputCols=[categoricalCol + \"classVec\"])\n",
    "    stages += [stringIndexer, encoder]\n",
    "\n",
    "# Assembling vector\n",
    "assemblerInputs = [c + \"classVec\" for c in categoricalColumns] + ['width', 'height', 'floorPrice', 'hour']\n",
    "assembler = VectorAssembler(inputCols=assemblerInputs, outputCol=\"features\")\n",
    "stages += [assembler]\n"
   ]
  },
  {
   "cell_type": "code",
   "execution_count": null,
   "metadata": {},
   "outputs": [],
   "source": [
    "from pyspark.ml import Pipeline\n",
    "from pyspark.ml.classification import LogisticRegression, GBTClassifier, LinearSVC\n",
    "from pyspark.ml.evaluation import BinaryClassificationEvaluator\n",
    "\n",
    "# Set up the evaluator\n",
    "evaluator = BinaryClassificationEvaluator(rawPredictionCol=\"rawPrediction\", labelCol=\"numClick\", metricName=\"areaUnderROC\")\n",
    "\n",
    "# Logistic Regression\n",
    "lr = LogisticRegression(labelCol=\"numClick\", featuresCol=\"features\", maxIter=10)\n",
    "pipeline_lr = Pipeline(stages=stages + [lr])\n",
    "model_lr = pipeline_lr.fit(df)\n",
    "predictions_lr = model_lr.transform(df)\n",
    "print(\"Logistic Regression AUC: \", evaluator.evaluate(predictions_lr))"
   ]
  },
  {
   "cell_type": "code",
   "execution_count": null,
   "metadata": {},
   "outputs": [],
   "source": [
    "# Gradient Boosting Trees\n",
    "gbt = GBTClassifier(labelCol=\"numClick\", featuresCol=\"features\", maxIter=10)\n",
    "pipeline_gbt = Pipeline(stages=stages + [gbt])\n",
    "model_gbt = pipeline_gbt.fit(df)\n",
    "predictions_gbt = model_gbt.transform(df)\n",
    "print(\"Gradient Boosting AUC: \", evaluator.evaluate(predictions_gbt))"
   ]
  },
  {
   "cell_type": "code",
   "execution_count": null,
   "metadata": {},
   "outputs": [],
   "source": [
    "# Support Vector Machine\n",
    "svm = LinearSVC(labelCol=\"numClick\", featuresCol=\"features\", maxIter=10)\n",
    "pipeline_svm = Pipeline(stages=stages + [svm])\n",
    "model_svm = pipeline_svm.fit(df)\n",
    "predictions_svm = model_svm.transform(df)\n",
    "print(\"SVM AUC: \", evaluator.evaluate(predictions_svm))"
   ]
  }
 ],
 "metadata": {
  "language_info": {
   "name": "python"
  }
 },
 "nbformat": 4,
 "nbformat_minor": 2
}
