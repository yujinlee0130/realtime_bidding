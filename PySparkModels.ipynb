{
 "cells": [
  {
   "cell_type": "code",
   "execution_count": 1,
   "id": "e090cb50",
   "metadata": {
    "scrolled": true
   },
   "outputs": [
    {
     "name": "stderr",
     "output_type": "stream",
     "text": [
      "WARNING: An illegal reflective access operation has occurred\n",
      "WARNING: Illegal reflective access by org.apache.spark.unsafe.Platform (file:/ext3/spark-3.1.2-bin-hadoop3.2/jars/spark-unsafe_2.12-3.1.2.jar) to constructor java.nio.DirectByteBuffer(long,int)\n",
      "WARNING: Please consider reporting this to the maintainers of org.apache.spark.unsafe.Platform\n",
      "WARNING: Use --illegal-access=warn to enable warnings of further illegal reflective access operations\n",
      "WARNING: All illegal access operations will be denied in a future release\n",
      "24/05/14 20:07:20 WARN NativeCodeLoader: Unable to load native-hadoop library for your platform... using builtin-java classes where applicable\n",
      "Using Spark's default log4j profile: org/apache/spark/log4j-defaults.properties\n",
      "Setting default log level to \"WARN\".\n",
      "To adjust logging level use sc.setLogLevel(newLevel). For SparkR, use setLogLevel(newLevel).\n"
     ]
    }
   ],
   "source": [
    "from pyspark.sql import SparkSession\n",
    "\n",
    "spark = SparkSession.builder \\\n",
    "    .appName(\"ML_analysis\") \\\n",
    "    .config(\"spark.driver.memory\", \"32g\") \\\n",
    "    .config(\"spark.executor.memory\", \"32g\") \\\n",
    "    .getOrCreate()"
   ]
  },
  {
   "cell_type": "markdown",
   "id": "027aefee",
   "metadata": {},
   "source": [
    "### Outline\n",
    "(1) Used machine learning models to predict the click rates of ad impressions\n",
    "<br>(2) Used simulation to find the optimal bidding price"
   ]
  },
  {
   "cell_type": "markdown",
   "id": "5a0db5ae",
   "metadata": {},
   "source": [
    "### Loading Dataframe"
   ]
  },
  {
   "cell_type": "code",
   "execution_count": 2,
   "id": "936e71a0",
   "metadata": {},
   "outputs": [
    {
     "name": "stderr",
     "output_type": "stream",
     "text": [
      "                                                                                \r"
     ]
    }
   ],
   "source": [
    "df = spark.read.option(\"delimiter\", \"\\t\") \\\n",
    "    .option(\"header\", \"true\") \\\n",
    "    .option(\"inferSchema\", \"true\") \\\n",
    "    .csv(\"/home/yl9709/combined_training_before_normalize.txt\")"
   ]
  },
  {
   "cell_type": "code",
   "execution_count": 3,
   "id": "ac865ea6",
   "metadata": {
    "scrolled": false
   },
   "outputs": [
    {
     "name": "stderr",
     "output_type": "stream",
     "text": [
      "24/05/14 20:07:29 WARN package: Truncated the string representation of a plan since it was too large. This behavior can be adjusted by setting 'spark.sql.debug.maxToStringFields'.\n"
     ]
    },
    {
     "data": {
      "text/plain": [
       "Row(bidID='b006d2236cd8786f8269e3bd60dd795f', timestamp=20130318000100765, logtype=1, iPinYouID='c43a65560b3c8adc7cfe24ef38e82398', userAgent='Mozilla/4.0 (compatible; MSIE 6.0; Windows NT 5.1; SV1; Apache; .NET CLR 2.0.50727; 360SE)', IP='60.190.192.*', region=94, city=100, adExchange=2.0, domain='eF1gtp57dNFrw9Kbu-', URL='373ca49d791e5fc3bae3b23ab7b39f8', URLID=None, adSlotID='426993709', width=468, height=60, visibility='0', format='0', floorPrice=13, creativeID='28425676c2469651ba969a88529eeec8', biddingPrice=300, payingPrice=13, keyPageURL='9f4e2f16b6873a7eb504df6f61b24044', advertiserID=0, userTags='0', numClick=0, conversion=0, datetime='2013-03-18 00:01:00.765', weekday='Monday', hour=0)"
      ]
     },
     "execution_count": 3,
     "metadata": {},
     "output_type": "execute_result"
    }
   ],
   "source": [
    "df.head()"
   ]
  },
  {
   "cell_type": "code",
   "execution_count": 4,
   "id": "f7174334",
   "metadata": {
    "scrolled": true
   },
   "outputs": [
    {
     "name": "stdout",
     "output_type": "stream",
     "text": [
      "+--------+------+----+----------+--------------------+-----+------+----------+-------+----+-----------+\n",
      "|numClick|region|city|adExchange|                 URL|width|height|floorPrice|weekday|hour|payingPrice|\n",
      "+--------+------+----+----------+--------------------+-----+------+----------+-------+----+-----------+\n",
      "|       0|    94| 100|         2|373ca49d791e5fc3b...|  468|    60|        13| Monday|   0|         13|\n",
      "|       0|    40|  42|         2|ba5f614bb0a90cd04...|  728|    90|         5| Monday|   0|         25|\n",
      "|       0|    40|  45|         1|f4766aa78c9debf5a...|  160|   600|         0| Monday|   0|         13|\n",
      "|       0|    80|  85|         2|5db0c3f5ddab9fd58...|  300|   250|         5| Monday|   0|         24|\n",
      "|       0|     0|   0|         2|aa1ab4011d63ca032...|  300|   250|         5| Monday|   0|         57|\n",
      "+--------+------+----+----------+--------------------+-----+------+----------+-------+----+-----------+\n",
      "only showing top 5 rows\n",
      "\n"
     ]
    }
   ],
   "source": [
    "# Select necessary columns\n",
    "from pyspark.sql.functions import col\n",
    "\n",
    "df = df.select(\n",
    "    col(\"numClick\").cast(\"int\"),\n",
    "    col(\"region\").cast(\"int\"),\n",
    "    col(\"city\").cast(\"int\"),\n",
    "    col(\"adExchange\").cast(\"int\"),\n",
    "    col(\"URL\"),\n",
    "    col(\"width\").cast(\"int\"),\n",
    "    col(\"height\").cast(\"int\"),\n",
    "    col(\"floorPrice\").cast(\"int\"),\n",
    "    col(\"weekday\"),\n",
    "    col(\"hour\").cast(\"int\"),\n",
    "    col(\"payingPrice\").cast(\"int\")\n",
    ")\n",
    "\n",
    "# Check the data\n",
    "df.show(5)"
   ]
  },
  {
   "cell_type": "markdown",
   "id": "92b5e648",
   "metadata": {},
   "source": [
    "Each row represents a bid for an impression"
   ]
  },
  {
   "cell_type": "code",
   "execution_count": 5,
   "id": "b1d96282",
   "metadata": {},
   "outputs": [],
   "source": [
    "from pyspark.sql.functions import monotonically_increasing_id\n",
    "\n",
    "# Adding a unique ID to test_df before splitting into train/test or applying transformations\n",
    "df = df.withColumn(\"unique_id\", monotonically_increasing_id())"
   ]
  },
  {
   "cell_type": "markdown",
   "id": "58b420d2",
   "metadata": {},
   "source": [
    "### Data Transformation"
   ]
  },
  {
   "cell_type": "code",
   "execution_count": 6,
   "id": "952460d7",
   "metadata": {},
   "outputs": [],
   "source": [
    "from pyspark.ml.feature import StringIndexer, OneHotEncoder, VectorAssembler\n",
    "\n",
    "# Indexing and encoding categorical columns\n",
    "categoricalColumns = ['region', 'city', 'adExchange', 'weekday']\n",
    "stages = []\n",
    "\n",
    "for categoricalCol in categoricalColumns:\n",
    "    stringIndexer = StringIndexer(inputCol=categoricalCol, outputCol=categoricalCol + \"Index\")\n",
    "    encoder = OneHotEncoder(inputCols=[stringIndexer.getOutputCol()], outputCols=[categoricalCol + \"classVec\"])\n",
    "    stages += [stringIndexer, encoder]\n",
    "\n",
    "# Assembling vector\n",
    "assemblerInputs = [c + \"classVec\" for c in categoricalColumns] + ['width', 'height', 'floorPrice', 'hour']\n",
    "assembler = VectorAssembler(inputCols=assemblerInputs, outputCol=\"features\")\n",
    "stages += [assembler]\n"
   ]
  },
  {
   "cell_type": "markdown",
   "id": "71ae2c2e",
   "metadata": {},
   "source": [
    "### Train (70%) - Test (30%) Split"
   ]
  },
  {
   "cell_type": "code",
   "execution_count": 7,
   "id": "2ea183fb",
   "metadata": {},
   "outputs": [],
   "source": [
    "from pyspark.ml import Pipeline\n",
    "from pyspark.ml.classification import LogisticRegression, GBTClassifier, LinearSVC\n",
    "from pyspark.ml.evaluation import BinaryClassificationEvaluator\n",
    "\n",
    "# Set up the evaluator\n",
    "evaluator = BinaryClassificationEvaluator(rawPredictionCol=\"rawPrediction\", labelCol=\"numClick\", metricName=\"areaUnderROC\")\n",
    "\n",
    "train_df, test_df = df.randomSplit([0.7, 0.3], seed=42)"
   ]
  },
  {
   "cell_type": "markdown",
   "id": "d66351a6",
   "metadata": {},
   "source": [
    "### (1) Logistic Regression"
   ]
  },
  {
   "cell_type": "code",
   "execution_count": 8,
   "id": "5a28c5ee",
   "metadata": {},
   "outputs": [],
   "source": [
    "# Logistic Regression\n",
    "lr = LogisticRegression(labelCol=\"numClick\", featuresCol=\"features\", maxIter=10)"
   ]
  },
  {
   "cell_type": "code",
   "execution_count": 9,
   "id": "17bcf8af",
   "metadata": {},
   "outputs": [],
   "source": [
    "pipeline_lr = Pipeline(stages=stages + [lr])"
   ]
  },
  {
   "cell_type": "code",
   "execution_count": 10,
   "id": "52c2be46",
   "metadata": {},
   "outputs": [
    {
     "name": "stderr",
     "output_type": "stream",
     "text": [
      "24/05/14 20:08:02 WARN BLAS: Failed to load implementation from: com.github.fommil.netlib.NativeSystemBLAS\n",
      "24/05/14 20:08:02 WARN BLAS: Failed to load implementation from: com.github.fommil.netlib.NativeRefBLAS\n",
      "                                                                                \r"
     ]
    }
   ],
   "source": [
    "model_lr = pipeline_lr.fit(train_df)"
   ]
  },
  {
   "cell_type": "code",
   "execution_count": 11,
   "id": "f659f3f4",
   "metadata": {},
   "outputs": [
    {
     "name": "stderr",
     "output_type": "stream",
     "text": [
      "                                                                                \r"
     ]
    },
    {
     "name": "stdout",
     "output_type": "stream",
     "text": [
      "Logistic Regression AUC:  0.5712724408492721\n"
     ]
    }
   ],
   "source": [
    "predictions_lr = model_lr.transform(test_df)\n",
    "print(\"Logistic Regression AUC: \", evaluator.evaluate(predictions_lr))"
   ]
  },
  {
   "cell_type": "markdown",
   "id": "74346bb3",
   "metadata": {},
   "source": [
    "### (2) Gradient Boosting Trees"
   ]
  },
  {
   "cell_type": "code",
   "execution_count": 12,
   "id": "eff17ba7",
   "metadata": {},
   "outputs": [],
   "source": [
    "# Gradient Boosting Trees\n",
    "gbt = GBTClassifier(labelCol=\"numClick\", featuresCol=\"features\", maxIter=10)"
   ]
  },
  {
   "cell_type": "code",
   "execution_count": 13,
   "id": "debaac3a",
   "metadata": {},
   "outputs": [],
   "source": [
    "pipeline_gbt = Pipeline(stages=stages + [gbt])"
   ]
  },
  {
   "cell_type": "code",
   "execution_count": 14,
   "id": "934bb119",
   "metadata": {},
   "outputs": [
    {
     "name": "stderr",
     "output_type": "stream",
     "text": [
      "                                                                                \r"
     ]
    }
   ],
   "source": [
    "model_gbt = pipeline_gbt.fit(train_df)"
   ]
  },
  {
   "cell_type": "code",
   "execution_count": 15,
   "id": "45ff5f85",
   "metadata": {
    "scrolled": true
   },
   "outputs": [
    {
     "name": "stderr",
     "output_type": "stream",
     "text": [
      "[Stage 161:============================================>          (17 + 4) / 21]\r"
     ]
    },
    {
     "name": "stdout",
     "output_type": "stream",
     "text": [
      "Gradient Boosting AUC:  0.6223684451391842\n"
     ]
    },
    {
     "name": "stderr",
     "output_type": "stream",
     "text": [
      "                                                                                \r"
     ]
    }
   ],
   "source": [
    "predictions_gbt = model_gbt.transform(test_df)\n",
    "print(\"Gradient Boosting AUC: \", evaluator.evaluate(predictions_gbt))"
   ]
  },
  {
   "cell_type": "code",
   "execution_count": 16,
   "id": "b15106b1",
   "metadata": {},
   "outputs": [
    {
     "name": "stdout",
     "output_type": "stream",
     "text": [
      "root\n",
      " |-- numClick: integer (nullable = true)\n",
      " |-- region: integer (nullable = true)\n",
      " |-- city: integer (nullable = true)\n",
      " |-- adExchange: integer (nullable = true)\n",
      " |-- URL: string (nullable = true)\n",
      " |-- width: integer (nullable = true)\n",
      " |-- height: integer (nullable = true)\n",
      " |-- floorPrice: integer (nullable = true)\n",
      " |-- weekday: string (nullable = true)\n",
      " |-- hour: integer (nullable = true)\n",
      " |-- payingPrice: integer (nullable = true)\n",
      " |-- unique_id: long (nullable = false)\n",
      " |-- regionIndex: double (nullable = false)\n",
      " |-- regionclassVec: vector (nullable = true)\n",
      " |-- cityIndex: double (nullable = false)\n",
      " |-- cityclassVec: vector (nullable = true)\n",
      " |-- adExchangeIndex: double (nullable = false)\n",
      " |-- adExchangeclassVec: vector (nullable = true)\n",
      " |-- weekdayIndex: double (nullable = false)\n",
      " |-- weekdayclassVec: vector (nullable = true)\n",
      " |-- features: vector (nullable = true)\n",
      " |-- rawPrediction: vector (nullable = true)\n",
      " |-- probability: vector (nullable = true)\n",
      " |-- prediction: double (nullable = false)\n",
      "\n"
     ]
    }
   ],
   "source": [
    "predictions_gbt.printSchema()"
   ]
  },
  {
   "cell_type": "code",
   "execution_count": 17,
   "id": "2ffa027f",
   "metadata": {},
   "outputs": [
    {
     "name": "stderr",
     "output_type": "stream",
     "text": [
      "[Stage 172:>                                                        (0 + 1) / 1]\r"
     ]
    },
    {
     "name": "stdout",
     "output_type": "stream",
     "text": [
      "+--------+------+----+----------+--------------------+-----+------+----------+-------+----+-----------+---------+-----------+---------------+---------+---------------+---------------+------------------+------------+---------------+--------------------+--------------------+--------------------+----------+\n",
      "|numClick|region|city|adExchange|                 URL|width|height|floorPrice|weekday|hour|payingPrice|unique_id|regionIndex| regionclassVec|cityIndex|   cityclassVec|adExchangeIndex|adExchangeclassVec|weekdayIndex|weekdayclassVec|            features|       rawPrediction|         probability|prediction|\n",
      "+--------+------+----+----------+--------------------+-----+------+----------+-------+----+-----------+---------+-----------+---------------+---------+---------------+---------------+------------------+------------+---------------+--------------------+--------------------+--------------------+----------+\n",
      "|       0|     0|   0|         1|102286d4be01b0804...|  950|    90|         0| Monday|   0|         53|    17681|       14.0|(34,[14],[1.0])|      4.0|(371,[4],[1.0])|            2.0|     (4,[2],[1.0])|         2.0|  (6,[2],[1.0])|(419,[14,38,407,4...|[1.32354509273863...|[0.93383141900901...|       0.0|\n",
      "|       0|     0|   0|         1|1038838b79c874ed0...|  300|   250|         0| Monday|   4|        300|    84466|       14.0|(34,[14],[1.0])|      4.0|(371,[4],[1.0])|            2.0|     (4,[2],[1.0])|         2.0|  (6,[2],[1.0])|(419,[14,38,407,4...|[1.32320549301710...|[0.93378943870352...|       0.0|\n",
      "|       0|     0|   0|         1|103da40a0dd1745c9...|  950|    90|         0| Monday|  10|          5|   201216|       14.0|(34,[14],[1.0])|      4.0|(371,[4],[1.0])|            2.0|     (4,[2],[1.0])|         2.0|  (6,[2],[1.0])|(419,[14,38,407,4...|[1.32387638846492...|[0.93387234896663...|       0.0|\n",
      "|       0|     0|   0|         1|106fc906a2fea7f78...|  950|    90|         0| Monday|   0|         45|    23523|       14.0|(34,[14],[1.0])|      4.0|(371,[4],[1.0])|            2.0|     (4,[2],[1.0])|         2.0|  (6,[2],[1.0])|(419,[14,38,407,4...|[1.32354509273863...|[0.93383141900901...|       0.0|\n",
      "|       0|     0|   0|         1|10744e5fed088b797...|  300|   250|         0| Monday|  10|         19|   200982|       14.0|(34,[14],[1.0])|      4.0|(371,[4],[1.0])|            2.0|     (4,[2],[1.0])|         2.0|  (6,[2],[1.0])|(419,[14,38,407,4...|[1.32320549301710...|[0.93378943870352...|       0.0|\n",
      "+--------+------+----+----------+--------------------+-----+------+----------+-------+----+-----------+---------+-----------+---------------+---------+---------------+---------------+------------------+------------+---------------+--------------------+--------------------+--------------------+----------+\n",
      "only showing top 5 rows\n",
      "\n"
     ]
    },
    {
     "name": "stderr",
     "output_type": "stream",
     "text": [
      "                                                                                \r"
     ]
    }
   ],
   "source": [
    "predictions_gbt.show(5)"
   ]
  },
  {
   "cell_type": "markdown",
   "id": "16b96cf3",
   "metadata": {},
   "source": [
    "### (3) Support Vector Machine\n"
   ]
  },
  {
   "cell_type": "code",
   "execution_count": 18,
   "id": "3326d8c4",
   "metadata": {
    "scrolled": false
   },
   "outputs": [],
   "source": [
    "# Support Vector Machine\n",
    "svm = LinearSVC(labelCol=\"numClick\", featuresCol=\"features\", maxIter=10)"
   ]
  },
  {
   "cell_type": "code",
   "execution_count": 19,
   "id": "aa19fcb6",
   "metadata": {},
   "outputs": [],
   "source": [
    "pipeline_svm = Pipeline(stages=stages + [svm])"
   ]
  },
  {
   "cell_type": "code",
   "execution_count": 20,
   "id": "57b1d519",
   "metadata": {},
   "outputs": [
    {
     "name": "stderr",
     "output_type": "stream",
     "text": [
      "                                                                                \r"
     ]
    }
   ],
   "source": [
    "model_svm = pipeline_svm.fit(train_df)"
   ]
  },
  {
   "cell_type": "code",
   "execution_count": 21,
   "id": "a0b46e14",
   "metadata": {
    "scrolled": true
   },
   "outputs": [
    {
     "name": "stderr",
     "output_type": "stream",
     "text": [
      "                                                                                \r"
     ]
    },
    {
     "name": "stdout",
     "output_type": "stream",
     "text": [
      "SVM AUC:  0.5071795590023994\n"
     ]
    }
   ],
   "source": [
    "predictions_svm = model_svm.transform(test_df)\n",
    "print(\"SVM AUC: \", evaluator.evaluate(predictions_svm))"
   ]
  },
  {
   "cell_type": "markdown",
   "id": "094594dc",
   "metadata": {},
   "source": [
    "### Add prediction result to test_df"
   ]
  },
  {
   "cell_type": "code",
   "execution_count": 22,
   "id": "34d5975b",
   "metadata": {},
   "outputs": [],
   "source": [
    "# extract positive probability from GBT model\n",
    "from pyspark.sql.functions import col, udf\n",
    "from pyspark.sql.types import FloatType\n",
    "\n",
    "# Define a UDF to extract the second element from the probability vector\n",
    "get_positive_prob = udf(lambda v: float(v[1]), FloatType())\n",
    "\n",
    "# Add a new column to predictions_gbt with the positive class probability\n",
    "predictions_gbt = predictions_gbt.withColumn(\"positive_prob\", get_positive_prob(col(\"probability\")))"
   ]
  },
  {
   "cell_type": "code",
   "execution_count": 23,
   "id": "ab2db901",
   "metadata": {},
   "outputs": [],
   "source": [
    "test_df_with_prob = test_df.join(predictions_gbt, \"unique_id\").select(test_df[\"*\"], predictions_gbt[\"positive_prob\"])"
   ]
  },
  {
   "cell_type": "code",
   "execution_count": 24,
   "id": "9a7ccf83",
   "metadata": {},
   "outputs": [
    {
     "name": "stderr",
     "output_type": "stream",
     "text": [
      "                                                                                \r"
     ]
    },
    {
     "data": {
      "text/plain": [
       "2007563"
      ]
     },
     "execution_count": 24,
     "metadata": {},
     "output_type": "execute_result"
    }
   ],
   "source": [
    "test_df_with_prob.count()"
   ]
  },
  {
   "cell_type": "code",
   "execution_count": 25,
   "id": "c0e76f55",
   "metadata": {},
   "outputs": [
    {
     "name": "stderr",
     "output_type": "stream",
     "text": [
      "                                                                                \r"
     ]
    },
    {
     "data": {
      "text/plain": [
       "2007563"
      ]
     },
     "execution_count": 25,
     "metadata": {},
     "output_type": "execute_result"
    }
   ],
   "source": [
    "test_df.count()"
   ]
  },
  {
   "cell_type": "code",
   "execution_count": 26,
   "id": "2ce0577f",
   "metadata": {
    "scrolled": false
   },
   "outputs": [
    {
     "name": "stderr",
     "output_type": "stream",
     "text": [
      "[Stage 272:============================================>          (17 + 4) / 21]\r"
     ]
    },
    {
     "name": "stdout",
     "output_type": "stream",
     "text": [
      "+--------+------+----+----------+--------------------+-----+------+----------+-------+----+-----------+---------+-------------+\n",
      "|numClick|region|city|adExchange|                 URL|width|height|floorPrice|weekday|hour|payingPrice|unique_id|positive_prob|\n",
      "+--------+------+----+----------+--------------------+-----+------+----------+-------+----+-----------+---------+-------------+\n",
      "|       0|   216| 233|         1|177a166119fcf41b8...|  160|   600|         0| Monday|   0|         50|       26|   0.06616997|\n",
      "|       0|    94|  96|         2|b9b27f86cd5409b50...|  468|    60|         5| Monday|   0|         14|      474|  0.066168584|\n",
      "|       0|   216| 219|         2|14813226981bea2d8...|  300|   250|         5| Monday|   0|         24|     1806|   0.06616997|\n",
      "|       0|    80|  82|         1|1f1640b91b6c10733...|  300|   250|         0| Monday|   0|         53|     2453|   0.06632049|\n",
      "|       0|   238| 239|         1|d8df91a3689429534...|  300|   250|         0| Monday|   0|         32|     3764|   0.06632049|\n",
      "|       0|   183| 190|         1|2933149c579011f94...|  950|    90|         0| Monday|   0|         53|     8075|  0.066168584|\n",
      "|       0|   275| 275|         2|b9b27f86cd5409b50...|  468|    60|         5| Monday|   0|          5|     8440|  0.066168584|\n",
      "|       0|   106| 121|         2|27da81265f7cee7ab...|  728|    90|         5| Monday|   0|          5|     8484|  0.066168584|\n",
      "|       0|   124| 131|         1|b5eadad2549dbedd1...|  300|   250|         0| Monday|   0|        163|     9233|   0.06632049|\n",
      "|       0|   216| 219|         1|a72f8164c89709358...|  300|   250|         0| Monday|   0|         75|     9945|   0.06616997|\n",
      "|       0|   276| 276|         2|5bb34702b7afd0f14...|  728|    90|         5| Monday|   0|         24|    10156|  0.066168584|\n",
      "|       0|   333| 333|         2|d162641aec6507af6...|  300|   250|         5| Monday|   0|          8|    10871|   0.06632049|\n",
      "|       0|   368| 369|         1|826a99e39046efecc...|  950|    90|         0| Monday|   0|          8|    11276|  0.066168584|\n",
      "|       0|    94|  95|         1|c5917495f353f1616...|  336|   280|         0| Monday|   0|        160|    11945|   0.06632049|\n",
      "|       0|     2|   2|         1|22768663f196e257c...|  728|    90|         0| Monday|   0|         53|    12568|  0.066168584|\n",
      "|       0|   276| 297|         2|39ce71550cc669845...|  728|    90|         5| Monday|   0|         24|    13248|  0.066168584|\n",
      "|       0|   216| 216|         2|4cd6719ccc0e9892e...|  468|    60|         5| Monday|   0|         24|    13401|   0.06615844|\n",
      "|       0|   216| 216|         2|d8b214c5c754effba...|  300|   250|         5| Monday|   0|          5|    13638|   0.06616997|\n",
      "|       0|    79|  79|         2|244736a27116e1cd7...|  250|   250|         5| Monday|   0|         80|    13723|   0.06632049|\n",
      "|       0|    79|  79|         2|5ffb9f9dad24d722d...|  728|    90|         5| Monday|   0|        148|    14846|  0.066168584|\n",
      "|       0|   238| 239|         1|63636e0dd80b245ee...|  336|   280|         0| Monday|   0|         13|    15057|   0.06632049|\n",
      "|       0|   216| 216|         1|31ec3e5e4ead470d1...|  160|   600|         0| Monday|   0|         13|    15237|   0.06616997|\n",
      "|       0|   333| 333|         1|deec57684c863da73...|  160|   600|         0| Monday|   0|          5|    15375|   0.06632049|\n",
      "|       0|   253| 254|         1|4e44922ca1d0648eb...|  336|   280|         0| Monday|   0|         21|    15432|   0.06632049|\n",
      "|       0|   216| 216|         1|b76c48161dcb48de6...|  160|   600|         0| Monday|   0|         32|    15846|   0.06616997|\n",
      "|       0|   216| 234|         1|4348e08a996110a9b...|  336|   280|         0| Monday|   0|         13|    16530|   0.06616997|\n",
      "|       0|   216| 217|         1|9b27b4d5803f49926...|  300|   250|         0| Monday|   0|        103|    16597|   0.06616997|\n",
      "|       0|   201| 201|         1|7bde8e2f7577f347f...|  300|   250|         0| Monday|   0|         26|    16742|   0.06632049|\n",
      "|       0|   146| 147|         1|1f69c9dfcf79eb2c3...|  300|   250|         0| Monday|   0|         61|    16896|   0.06632049|\n",
      "|       0|   238| 240|         2|e8a437ec5618807c8...|  728|    90|         5| Monday|   0|          7|    17043|  0.066168584|\n",
      "+--------+------+----+----------+--------------------+-----+------+----------+-------+----+-----------+---------+-------------+\n",
      "only showing top 30 rows\n",
      "\n"
     ]
    },
    {
     "name": "stderr",
     "output_type": "stream",
     "text": [
      "                                                                                \r"
     ]
    }
   ],
   "source": [
    "test_df_with_prob.show(30)"
   ]
  },
  {
   "cell_type": "code",
   "execution_count": 27,
   "id": "b814c81c",
   "metadata": {},
   "outputs": [
    {
     "name": "stdout",
     "output_type": "stream",
     "text": [
      "root\n",
      " |-- numClick: integer (nullable = true)\n",
      " |-- region: integer (nullable = true)\n",
      " |-- city: integer (nullable = true)\n",
      " |-- adExchange: integer (nullable = true)\n",
      " |-- URL: string (nullable = true)\n",
      " |-- width: integer (nullable = true)\n",
      " |-- height: integer (nullable = true)\n",
      " |-- floorPrice: integer (nullable = true)\n",
      " |-- weekday: string (nullable = true)\n",
      " |-- hour: integer (nullable = true)\n",
      " |-- payingPrice: integer (nullable = true)\n",
      " |-- unique_id: long (nullable = false)\n",
      " |-- positive_prob: float (nullable = true)\n",
      "\n"
     ]
    }
   ],
   "source": [
    "test_df_with_prob.printSchema()"
   ]
  },
  {
   "cell_type": "code",
   "execution_count": 28,
   "id": "13eebb83",
   "metadata": {
    "scrolled": true
   },
   "outputs": [
    {
     "ename": "TypeError",
     "evalue": "unsupported operand type(s) for +: 'int' and 'str'",
     "output_type": "error",
     "traceback": [
      "\u001b[0;31m---------------------------------------------------------------------------\u001b[0m",
      "\u001b[0;31mTypeError\u001b[0m                                 Traceback (most recent call last)",
      "\u001b[0;32m/state/partition1/job-46489290/ipykernel_1463731/3205071948.py\u001b[0m in \u001b[0;36m<module>\u001b[0;34m\u001b[0m\n\u001b[0;32m----> 1\u001b[0;31m \u001b[0msum_numClick\u001b[0m \u001b[0;34m=\u001b[0m \u001b[0mtest_df\u001b[0m\u001b[0;34m.\u001b[0m\u001b[0magg\u001b[0m\u001b[0;34m(\u001b[0m\u001b[0msum\u001b[0m\u001b[0;34m(\u001b[0m\u001b[0;34m\"numClick\"\u001b[0m\u001b[0;34m)\u001b[0m\u001b[0;34m.\u001b[0m\u001b[0malias\u001b[0m\u001b[0;34m(\u001b[0m\u001b[0;34m\"sum_numClick\"\u001b[0m\u001b[0;34m)\u001b[0m\u001b[0;34m)\u001b[0m\u001b[0;34m.\u001b[0m\u001b[0mcollect\u001b[0m\u001b[0;34m(\u001b[0m\u001b[0;34m)\u001b[0m\u001b[0;34m[\u001b[0m\u001b[0;36m0\u001b[0m\u001b[0;34m]\u001b[0m\u001b[0;34m[\u001b[0m\u001b[0;34m\"sum_numClick\"\u001b[0m\u001b[0;34m]\u001b[0m\u001b[0;34m\u001b[0m\u001b[0;34m\u001b[0m\u001b[0m\n\u001b[0m\u001b[1;32m      2\u001b[0m \u001b[0mprint\u001b[0m\u001b[0;34m(\u001b[0m\u001b[0msum_numClick\u001b[0m\u001b[0;34m)\u001b[0m\u001b[0;34m\u001b[0m\u001b[0;34m\u001b[0m\u001b[0m\n",
      "\u001b[0;31mTypeError\u001b[0m: unsupported operand type(s) for +: 'int' and 'str'"
     ]
    }
   ],
   "source": [
    "sum_numClick = test_df.agg(sum(\"numClick\").alias(\"sum_numClick\")).collect()[0][\"sum_numClick\"]\n",
    "print(sum_numClick)"
   ]
  },
  {
   "cell_type": "markdown",
   "id": "d231833e",
   "metadata": {},
   "source": [
    "### Finding Optimal Bid Price"
   ]
  },
  {
   "cell_type": "markdown",
   "id": "785b6e53",
   "metadata": {},
   "source": [
    "### Define the Bidding Function:\n",
    "(1) Bidding Price = α × Predicted Click Rate * ROI Function\n",
    "<br>\n",
    "<br>(2) Simulation Function: Create a function to simulate bidding based on a given α and calculate the total clicks won and the total cost. \n",
    "<br>\n",
    "<br>(3) Implement Binary Search: Use binary search to find the optimal α to maximize click probability while staying under the budget."
   ]
  },
  {
   "cell_type": "code",
   "execution_count": 29,
   "id": "50c91fbf",
   "metadata": {},
   "outputs": [
    {
     "name": "stderr",
     "output_type": "stream",
     "text": [
      "[Stage 275:===============================================>       (18 + 3) / 21]\r"
     ]
    },
    {
     "name": "stdout",
     "output_type": "stream",
     "text": [
      "Total Paying Price:  169989899\n"
     ]
    },
    {
     "name": "stderr",
     "output_type": "stream",
     "text": [
      "                                                                                \r"
     ]
    }
   ],
   "source": [
    "# Sum bidding price to determine the budget.\n",
    "# The max bidding in the simulation will be less than this.\n",
    "\n",
    "from pyspark.sql.functions import sum\n",
    "total_paying_price = test_df_with_prob.agg(sum(\"payingPrice\").alias(\"total_paying_price\")).collect()[0][\"total_paying_price\"]\n",
    "print(\"Total Paying Price: \", total_paying_price)"
   ]
  },
  {
   "cell_type": "code",
   "execution_count": 51,
   "id": "1799191c",
   "metadata": {
    "scrolled": false
   },
   "outputs": [
    {
     "name": "stdout",
     "output_type": "stream",
     "text": [
      "170017.031\n"
     ]
    }
   ],
   "source": [
    "budget = 170017031/1000\n",
    "print(budget)"
   ]
  },
  {
   "cell_type": "code",
   "execution_count": 32,
   "id": "46f95fd8",
   "metadata": {},
   "outputs": [
    {
     "name": "stderr",
     "output_type": "stream",
     "text": [
      "[Stage 279:============================================>          (17 + 4) / 21]\r"
     ]
    },
    {
     "name": "stdout",
     "output_type": "stream",
     "text": [
      "+--------------------+\n",
      "|    average_numClick|\n",
      "+--------------------+\n",
      "|7.387065810637076E-4|\n",
      "+--------------------+\n",
      "\n"
     ]
    },
    {
     "name": "stderr",
     "output_type": "stream",
     "text": [
      "                                                                                \r"
     ]
    }
   ],
   "source": [
    "from pyspark.sql.functions import avg\n",
    "\n",
    "average_numClick = test_df_with_prob.agg(avg(\"numClick\").alias(\"average_numClick\")).show()"
   ]
  },
  {
   "cell_type": "code",
   "execution_count": 33,
   "id": "60a3bc91",
   "metadata": {
    "scrolled": false
   },
   "outputs": [
    {
     "name": "stderr",
     "output_type": "stream",
     "text": [
      "[Stage 282:============================================>          (17 + 4) / 21]\r"
     ]
    },
    {
     "name": "stdout",
     "output_type": "stream",
     "text": [
      "Ratio of average payingPrice to average clickRate: 114625.69049224546\n",
      "max payingPrice: 300\n"
     ]
    },
    {
     "name": "stderr",
     "output_type": "stream",
     "text": [
      "                                                                                \r"
     ]
    }
   ],
   "source": [
    "# (avg winning price / average click through rate) to determine the range of the alpha\n",
    "\n",
    "from pyspark.sql.functions import avg, max, min\n",
    "results = test_df.agg(\n",
    "    avg(\"payingPrice\").alias(\"avg_paying_price\"),\n",
    "    avg(\"numClick\").alias(\"avg_click_rate\"),\n",
    "    max(\"payingPrice\").alias(\"max_paying_price\"),\n",
    ").collect()[0]\n",
    "\n",
    "ratio_avg = results[\"avg_paying_price\"] / results[\"avg_click_rate\"]\n",
    "print(\"Ratio of average payingPrice to average clickRate:\", ratio_avg)\n",
    "print(\"max payingPrice:\", results[\"max_paying_price\"])\n",
    "\n",
    "# bid price = click through rate * alpha\n",
    "# 114643 / 1000"
   ]
  },
  {
   "cell_type": "code",
   "execution_count": 34,
   "id": "fda046f9",
   "metadata": {},
   "outputs": [
    {
     "name": "stdout",
     "output_type": "stream",
     "text": [
      "114.643\n"
     ]
    }
   ],
   "source": [
    "print(114643 / 1000)"
   ]
  },
  {
   "cell_type": "code",
   "execution_count": 35,
   "id": "b48f9332",
   "metadata": {
    "scrolled": true
   },
   "outputs": [
    {
     "data": {
      "text/plain": [
       "84.67475192559337"
      ]
     },
     "execution_count": 35,
     "metadata": {},
     "output_type": "execute_result"
    }
   ],
   "source": [
    "results[\"avg_paying_price\"]"
   ]
  },
  {
   "cell_type": "code",
   "execution_count": 36,
   "id": "ad43cf6c",
   "metadata": {},
   "outputs": [],
   "source": [
    "roi_dict = {0: 1.0,\n",
    " 1: 1.5,\n",
    " 2: 0.5,\n",
    " 3: 0.5,\n",
    " 4: 1.0,\n",
    " 5: 1.5,\n",
    " 6: 1.5,\n",
    " 7: 1.0,\n",
    " 8: 1.0,\n",
    " 9: 1.0,\n",
    " 10: 0.5,\n",
    " 11: 1.0,\n",
    " 12: 1.0,\n",
    " 13: 1.0,\n",
    " 14: 1.0,\n",
    " 15: 1.0,\n",
    " 16: 1.0,\n",
    " 17: 1.0,\n",
    " 18: 1.5,\n",
    " 19: 1.0,\n",
    " 20: 1.5,\n",
    " 21: 1.5,\n",
    " 22: 1.5,\n",
    " 23: 1.5}"
   ]
  },
  {
   "cell_type": "code",
   "execution_count": 37,
   "id": "5c1f4eae",
   "metadata": {},
   "outputs": [],
   "source": [
    "# simulate bidding to based on a given alpha - returns the total clicks and total costs\n",
    "def simulateBidding(alpha, test_df, budget):\n",
    "    total_spent = 0\n",
    "    total_clicks = 0\n",
    "    roi_multiplier = 1\n",
    "\n",
    "    for row in test_df.collect():\n",
    "        predicted_click_rate = row.positive_prob\n",
    "        winning_price = row.payingPrice / 1000.0\n",
    "        bidding_hour = row.hour\n",
    "        \n",
    "        bid_price = alpha * (predicted_click_rate * roi_dict[bidding_hour])\n",
    "        if bid_price > winning_price:\n",
    "            total_spent += winning_price\n",
    "            total_clicks =  total_clicks + row.numClick\n",
    "\n",
    "\n",
    "    return total_clicks, total_spent\n",
    "\n",
    "\n",
    "# Use binary search to find the alpha that maximizes the click rate while staying under the budget\n",
    "def binarySearch(low, high, test_df, budget):\n",
    "    # returns the alpha\n",
    "    alpha = 0\n",
    "    max_clicks = 0\n",
    "    count = 0\n",
    "\n",
    "    while high - low > 0.01 and count < 100:\n",
    "        \n",
    "        mid = (low + high) / 2\n",
    "        clicks, spend = simulateBidding(mid, test_df, budget)\n",
    "        print(mid)\n",
    "        \n",
    "        if count % 100 == 0:\n",
    "            print(mid)\n",
    "            print(clicks, spend)\n",
    "            \n",
    "        if spend > budget:\n",
    "            high = mid\n",
    "        else:\n",
    "            low = mid\n",
    "            if clicks > max_clicks:\n",
    "                max_clicks = clicks\n",
    "                alpha = mid\n",
    "        \n",
    "        count += 1\n",
    "\n",
    "    return alpha"
   ]
  },
  {
   "cell_type": "markdown",
   "id": "47767ef5",
   "metadata": {},
   "source": [
    "### Find alpha under various scenarios"
   ]
  },
  {
   "cell_type": "code",
   "execution_count": 38,
   "id": "883c42e2",
   "metadata": {
    "scrolled": true
   },
   "outputs": [
    {
     "name": "stderr",
     "output_type": "stream",
     "text": [
      "                                                                                \r"
     ]
    },
    {
     "name": "stdout",
     "output_type": "stream",
     "text": [
      "600.0\n",
      "600.0\n",
      "1483 169989.89900033496\n",
      "300.0\n",
      "150.0\n",
      "75.0\n",
      "37.5\n",
      "18.75\n",
      "9.375\n",
      "4.6875\n",
      "2.34375\n",
      "1.171875\n",
      "0.5859375\n",
      "0.29296875\n",
      "0.439453125\n",
      "0.3662109375\n",
      "0.32958984375\n",
      "0.311279296875\n",
      "0.3021240234375\n",
      "0.3021240234375\n"
     ]
    }
   ],
   "source": [
    "alpha = binarySearch(0, 1200, test_df_with_prob, 5000)\n",
    "print(alpha)"
   ]
  },
  {
   "cell_type": "code",
   "execution_count": 39,
   "id": "2c0d7660",
   "metadata": {
    "scrolled": true
   },
   "outputs": [
    {
     "name": "stdout",
     "output_type": "stream",
     "text": [
      "600.0\n",
      "600.0\n",
      "1483 169989.89900033496\n",
      "300.0\n",
      "150.0\n",
      "75.0\n",
      "37.5\n",
      "18.75\n",
      "9.375\n",
      "4.6875\n",
      "2.34375\n",
      "1.171875\n",
      "0.5859375\n",
      "0.29296875\n",
      "0.439453125\n",
      "0.5126953125\n",
      "0.47607421875\n",
      "0.494384765625\n",
      "0.4852294921875\n",
      "0.4852294921875\n"
     ]
    }
   ],
   "source": [
    "alpha = binarySearch(0, 1200, test_df_with_prob, 10000)\n",
    "print(alpha)"
   ]
  },
  {
   "cell_type": "code",
   "execution_count": 55,
   "id": "98301a88",
   "metadata": {
    "scrolled": false
   },
   "outputs": [
    {
     "name": "stderr",
     "output_type": "stream",
     "text": [
      "                                                                                \r"
     ]
    },
    {
     "name": "stdout",
     "output_type": "stream",
     "text": [
      "600.0\n",
      "600.0\n",
      "1483 169989.89900033496\n"
     ]
    },
    {
     "name": "stderr",
     "output_type": "stream",
     "text": [
      "                                                                                \r"
     ]
    },
    {
     "name": "stdout",
     "output_type": "stream",
     "text": [
      "300.0\n"
     ]
    },
    {
     "name": "stderr",
     "output_type": "stream",
     "text": [
      "                                                                                \r"
     ]
    },
    {
     "name": "stdout",
     "output_type": "stream",
     "text": [
      "150.0\n"
     ]
    },
    {
     "name": "stderr",
     "output_type": "stream",
     "text": [
      "                                                                                \r"
     ]
    },
    {
     "name": "stdout",
     "output_type": "stream",
     "text": [
      "75.0\n"
     ]
    },
    {
     "name": "stderr",
     "output_type": "stream",
     "text": [
      "                                                                                \r"
     ]
    },
    {
     "name": "stdout",
     "output_type": "stream",
     "text": [
      "37.5\n"
     ]
    },
    {
     "name": "stderr",
     "output_type": "stream",
     "text": [
      "                                                                                \r"
     ]
    },
    {
     "name": "stdout",
     "output_type": "stream",
     "text": [
      "18.75\n"
     ]
    },
    {
     "name": "stderr",
     "output_type": "stream",
     "text": [
      "                                                                                \r"
     ]
    },
    {
     "name": "stdout",
     "output_type": "stream",
     "text": [
      "9.375\n"
     ]
    },
    {
     "name": "stderr",
     "output_type": "stream",
     "text": [
      "                                                                                \r"
     ]
    },
    {
     "name": "stdout",
     "output_type": "stream",
     "text": [
      "4.6875\n"
     ]
    },
    {
     "name": "stderr",
     "output_type": "stream",
     "text": [
      "                                                                                \r"
     ]
    },
    {
     "name": "stdout",
     "output_type": "stream",
     "text": [
      "2.34375\n"
     ]
    },
    {
     "name": "stderr",
     "output_type": "stream",
     "text": [
      "                                                                                \r"
     ]
    },
    {
     "name": "stdout",
     "output_type": "stream",
     "text": [
      "1.171875\n"
     ]
    },
    {
     "name": "stderr",
     "output_type": "stream",
     "text": [
      "                                                                                \r"
     ]
    },
    {
     "name": "stdout",
     "output_type": "stream",
     "text": [
      "0.5859375\n"
     ]
    },
    {
     "name": "stderr",
     "output_type": "stream",
     "text": [
      "                                                                                \r"
     ]
    },
    {
     "name": "stdout",
     "output_type": "stream",
     "text": [
      "0.87890625\n"
     ]
    },
    {
     "name": "stderr",
     "output_type": "stream",
     "text": [
      "                                                                                \r"
     ]
    },
    {
     "name": "stdout",
     "output_type": "stream",
     "text": [
      "0.732421875\n"
     ]
    },
    {
     "name": "stderr",
     "output_type": "stream",
     "text": [
      "                                                                                \r"
     ]
    },
    {
     "name": "stdout",
     "output_type": "stream",
     "text": [
      "0.6591796875\n"
     ]
    },
    {
     "name": "stderr",
     "output_type": "stream",
     "text": [
      "                                                                                \r"
     ]
    },
    {
     "name": "stdout",
     "output_type": "stream",
     "text": [
      "0.62255859375\n"
     ]
    },
    {
     "name": "stderr",
     "output_type": "stream",
     "text": [
      "                                                                                \r"
     ]
    },
    {
     "name": "stdout",
     "output_type": "stream",
     "text": [
      "0.604248046875\n"
     ]
    },
    {
     "name": "stderr",
     "output_type": "stream",
     "text": [
      "                                                                                \r"
     ]
    },
    {
     "name": "stdout",
     "output_type": "stream",
     "text": [
      "0.6134033203125\n",
      "0.604248046875\n"
     ]
    }
   ],
   "source": [
    "alpha = binarySearch(0, 1200, test_df_with_prob, 15000)\n",
    "print(alpha)"
   ]
  },
  {
   "cell_type": "code",
   "execution_count": null,
   "id": "7cf88626",
   "metadata": {},
   "outputs": [],
   "source": []
  },
  {
   "cell_type": "markdown",
   "id": "1fdbd508",
   "metadata": {},
   "source": [
    "### Find ROI under scenario 1: Budget = 500 CNY\n"
   ]
  },
  {
   "cell_type": "code",
   "execution_count": 59,
   "id": "9ec28fd9",
   "metadata": {
    "scrolled": true
   },
   "outputs": [
    {
     "name": "stderr",
     "output_type": "stream",
     "text": [
      "[Stage 489:============================================>          (17 + 4) / 21]\r"
     ]
    },
    {
     "name": "stdout",
     "output_type": "stream",
     "text": [
      "+--------+------+----+----------+--------------------+-----+------+----------+-------+----+-----------+---------+-------------+--------------------+\n",
      "|numClick|region|city|adExchange|                 URL|width|height|floorPrice|weekday|hour|payingPrice|unique_id|positive_prob|          optimalBid|\n",
      "+--------+------+----+----------+--------------------+-----+------+----------+-------+----+-----------+---------+-------------+--------------------+\n",
      "|       0|   216| 233|         1|177a166119fcf41b8...|  160|   600|         0| Monday|   0|         50|       26|   0.06616997|0.019991537487840105|\n",
      "|       0|    94|  96|         2|b9b27f86cd5409b50...|  468|    60|         5| Monday|   0|         14|      474|  0.066168584|0.019991118801954144|\n",
      "|       0|   216| 219|         2|14813226981bea2d8...|  300|   250|         5| Monday|   0|         24|     1806|   0.06616997|0.019991537487840105|\n",
      "|       0|    80|  82|         1|1f1640b91b6c10733...|  300|   250|         0| Monday|   0|         53|     2453|   0.06632049|0.020037012177454017|\n",
      "|       0|   238| 239|         1|d8df91a3689429534...|  300|   250|         0| Monday|   0|         32|     3764|   0.06632049|0.020037012177454017|\n",
      "|       0|   183| 190|         1|2933149c579011f94...|  950|    90|         0| Monday|   0|         53|     8075|  0.066168584|0.019991118801954144|\n",
      "|       0|   275| 275|         2|b9b27f86cd5409b50...|  468|    60|         5| Monday|   0|          5|     8440|  0.066168584|0.019991118801954144|\n",
      "|       0|   106| 121|         2|27da81265f7cee7ab...|  728|    90|         5| Monday|   0|          5|     8484|  0.066168584|0.019991118801954144|\n",
      "|       0|   124| 131|         1|b5eadad2549dbedd1...|  300|   250|         0| Monday|   0|        163|     9233|   0.06632049|0.020037012177454017|\n",
      "|       0|   216| 219|         1|a72f8164c89709358...|  300|   250|         0| Monday|   0|         75|     9945|   0.06616997|0.019991537487840105|\n",
      "|       0|   276| 276|         2|5bb34702b7afd0f14...|  728|    90|         5| Monday|   0|         24|    10156|  0.066168584|0.019991118801954144|\n",
      "|       0|   333| 333|         2|d162641aec6507af6...|  300|   250|         5| Monday|   0|          8|    10871|   0.06632049|0.020037012177454017|\n",
      "|       0|   368| 369|         1|826a99e39046efecc...|  950|    90|         0| Monday|   0|          8|    11276|  0.066168584|0.019991118801954144|\n",
      "|       0|    94|  95|         1|c5917495f353f1616...|  336|   280|         0| Monday|   0|        160|    11945|   0.06632049|0.020037012177454017|\n",
      "|       0|     2|   2|         1|22768663f196e257c...|  728|    90|         0| Monday|   0|         53|    12568|  0.066168584|0.019991118801954144|\n",
      "|       0|   276| 297|         2|39ce71550cc669845...|  728|    90|         5| Monday|   0|         24|    13248|  0.066168584|0.019991118801954144|\n",
      "|       0|   216| 216|         2|4cd6719ccc0e9892e...|  468|    60|         5| Monday|   0|         24|    13401|   0.06615844| 0.01998805519178859|\n",
      "|       0|   216| 216|         2|d8b214c5c754effba...|  300|   250|         5| Monday|   0|          5|    13638|   0.06616997|0.019991537487840105|\n",
      "|       0|    79|  79|         2|244736a27116e1cd7...|  250|   250|         5| Monday|   0|         80|    13723|   0.06632049|0.020037012177454017|\n",
      "|       0|    79|  79|         2|5ffb9f9dad24d722d...|  728|    90|         5| Monday|   0|        148|    14846|  0.066168584|0.019991118801954144|\n",
      "+--------+------+----+----------+--------------------+-----+------+----------+-------+----+-----------+---------+-------------+--------------------+\n",
      "only showing top 20 rows\n",
      "\n"
     ]
    },
    {
     "name": "stderr",
     "output_type": "stream",
     "text": [
      "                                                                                \r"
     ]
    }
   ],
   "source": [
    "from pyspark.sql.functions import udf, col, lit\n",
    "from pyspark.sql.types import DoubleType\n",
    "\n",
    "# UDF to compute the new column value\n",
    "def calculate_value(t, alpha, positive_prob):\n",
    "    return alpha * positive_prob * roi_dict.get(t)\n",
    "\n",
    "calculate_value_udf = udf(calculate_value, DoubleType())\n",
    "\n",
    "alpha = 0.3021240234375\n",
    "\n",
    "test_df_with_prob = test_df_with_prob.withColumn('optimalBid', calculate_value_udf(col('hour'), lit(alpha), col('positive_prob')))\n",
    "\n",
    "# Show the DataFrame with the new column\n",
    "test_df_with_prob.show()"
   ]
  },
  {
   "cell_type": "code",
   "execution_count": 60,
   "id": "a2e2b783",
   "metadata": {},
   "outputs": [
    {
     "name": "stderr",
     "output_type": "stream",
     "text": [
      "[Stage 493:========================================>           (156 + 16) / 200]\r"
     ]
    },
    {
     "name": "stdout",
     "output_type": "stream",
     "text": [
      "Number of rows where optimalBid >= payingPrice: 332129\n"
     ]
    },
    {
     "name": "stderr",
     "output_type": "stream",
     "text": [
      "                                                                                \r"
     ]
    }
   ],
   "source": [
    "# Filter rows where optimalBid >= payingPrice\n",
    "filtered_df = test_df_with_prob.filter(col('optimalBid') >= col('payingPrice')/1000 )\n",
    "\n",
    "# Count the number of rows that satisfy the condition\n",
    "count = filtered_df.count()\n",
    "\n",
    "# Show the count\n",
    "print(\"Number of rows where optimalBid >= payingPrice:\", count)"
   ]
  },
  {
   "cell_type": "code",
   "execution_count": 61,
   "id": "6f312ed6",
   "metadata": {},
   "outputs": [
    {
     "name": "stderr",
     "output_type": "stream",
     "text": [
      "[Stage 497:=====================================>              (146 + 16) / 200]\r"
     ]
    },
    {
     "name": "stdout",
     "output_type": "stream",
     "text": [
      "+--------------+-----------------+------------------+\n",
      "|total_numClick|total_payingPrice|               ROI|\n",
      "+--------------+-----------------+------------------+\n",
      "|           129|          4110288|0.0313846620966706|\n",
      "+--------------+-----------------+------------------+\n",
      "\n"
     ]
    },
    {
     "name": "stderr",
     "output_type": "stream",
     "text": [
      "                                                                                \r"
     ]
    }
   ],
   "source": [
    "from pyspark.sql.functions import col, sum as _sum\n",
    "\n",
    "aggregated_df = filtered_df.agg(\n",
    "    _sum('numClick').alias('total_numClick'),\n",
    "    _sum('payingPrice').alias('total_payingPrice')\n",
    ")\n",
    "\n",
    "# Calculate ROI (numClick / payingPrice)\n",
    "aggregated_df = aggregated_df.withColumn(\n",
    "    'ROI', col('total_numClick') / (col('total_payingPrice') / 1000)\n",
    ")\n",
    "\n",
    "# Show the results\n",
    "aggregated_df.show()"
   ]
  },
  {
   "cell_type": "markdown",
   "id": "1255b0ad",
   "metadata": {},
   "source": [
    "### Find ROI under scenario 2: Budget = 1000 CNY"
   ]
  },
  {
   "cell_type": "code",
   "execution_count": 50,
   "id": "43dadc05",
   "metadata": {
    "scrolled": true
   },
   "outputs": [
    {
     "name": "stderr",
     "output_type": "stream",
     "text": [
      "[Stage 413:============================================>          (17 + 4) / 21]\r"
     ]
    },
    {
     "name": "stdout",
     "output_type": "stream",
     "text": [
      "+--------+------+----+----------+--------------------+-----+------+----------+-------+----+-----------+---------+-------------+--------------------+\n",
      "|numClick|region|city|adExchange|                 URL|width|height|floorPrice|weekday|hour|payingPrice|unique_id|positive_prob|          optimalBid|\n",
      "+--------+------+----+----------+--------------------+-----+------+----------+-------+----+-----------+---------+-------------+--------------------+\n",
      "|       0|   216| 233|         1|177a166119fcf41b8...|  160|   600|         0| Monday|   0|         50|       26|   0.06616997|0.032107620813803806|\n",
      "|       0|    94|  96|         2|b9b27f86cd5409b50...|  468|    60|         5| Monday|   0|         14|      474|  0.066168584| 0.03210694837889605|\n",
      "|       0|   216| 219|         2|14813226981bea2d8...|  300|   250|         5| Monday|   0|         24|     1806|   0.06616997|0.032107620813803806|\n",
      "|       0|    80|  82|         1|1f1640b91b6c10733...|  300|   250|         0| Monday|   0|         53|     2453|   0.06632049| 0.03218065592136554|\n",
      "|       0|   238| 239|         1|d8df91a3689429534...|  300|   250|         0| Monday|   0|         32|     3764|   0.06632049| 0.03218065592136554|\n",
      "|       0|   183| 190|         1|2933149c579011f94...|  950|    90|         0| Monday|   0|         53|     8075|  0.066168584| 0.03210694837889605|\n",
      "|       0|   275| 275|         2|b9b27f86cd5409b50...|  468|    60|         5| Monday|   0|          5|     8440|  0.066168584| 0.03210694837889605|\n",
      "|       0|   106| 121|         2|27da81265f7cee7ab...|  728|    90|         5| Monday|   0|          5|     8484|  0.066168584| 0.03210694837889605|\n",
      "|       0|   124| 131|         1|b5eadad2549dbedd1...|  300|   250|         0| Monday|   0|        163|     9233|   0.06632049| 0.03218065592136554|\n",
      "|       0|   216| 219|         1|a72f8164c89709358...|  300|   250|         0| Monday|   0|         75|     9945|   0.06616997|0.032107620813803806|\n",
      "|       0|   276| 276|         2|5bb34702b7afd0f14...|  728|    90|         5| Monday|   0|         24|    10156|  0.066168584| 0.03210694837889605|\n",
      "|       0|   333| 333|         2|d162641aec6507af6...|  300|   250|         5| Monday|   0|          8|    10871|   0.06632049| 0.03218065592136554|\n",
      "|       0|   368| 369|         1|826a99e39046efecc...|  950|    90|         0| Monday|   0|          8|    11276|  0.066168584| 0.03210694837889605|\n",
      "|       0|    94|  95|         1|c5917495f353f1616...|  336|   280|         0| Monday|   0|        160|    11945|   0.06632049| 0.03218065592136554|\n",
      "|       0|     2|   2|         1|22768663f196e257c...|  728|    90|         0| Monday|   0|         53|    12568|  0.066168584| 0.03210694837889605|\n",
      "|       0|   276| 297|         2|39ce71550cc669845...|  728|    90|         5| Monday|   0|         24|    13248|  0.066168584| 0.03210694837889605|\n",
      "|       0|   216| 216|         2|4cd6719ccc0e9892e...|  468|    60|         5| Monday|   0|         24|    13401|   0.06615844|0.032102028035296826|\n",
      "|       0|   216| 216|         2|d8b214c5c754effba...|  300|   250|         5| Monday|   0|          5|    13638|   0.06616997|0.032107620813803806|\n",
      "|       0|    79|  79|         2|244736a27116e1cd7...|  250|   250|         5| Monday|   0|         80|    13723|   0.06632049| 0.03218065592136554|\n",
      "|       0|    79|  79|         2|5ffb9f9dad24d722d...|  728|    90|         5| Monday|   0|        148|    14846|  0.066168584| 0.03210694837889605|\n",
      "+--------+------+----+----------+--------------------+-----+------+----------+-------+----+-----------+---------+-------------+--------------------+\n",
      "only showing top 20 rows\n",
      "\n"
     ]
    },
    {
     "name": "stderr",
     "output_type": "stream",
     "text": [
      "                                                                                \r"
     ]
    }
   ],
   "source": [
    "# UDF to compute the new column value\n",
    "def calculate_value(t, alpha, positive_prob):\n",
    "    return alpha * positive_prob * roi_dict.get(t)\n",
    "\n",
    "calculate_value_udf = udf(calculate_value, DoubleType())\n",
    "\n",
    "alpha = 0.4852294921875\n",
    "\n",
    "test_df_with_prob = test_df_with_prob.withColumn('optimalBid', calculate_value_udf(col('hour'), lit(alpha), col('positive_prob')))\n",
    "\n",
    "# Show the DataFrame with the new column\n",
    "test_df_with_prob.show()"
   ]
  },
  {
   "cell_type": "code",
   "execution_count": 52,
   "id": "d7cfbc72",
   "metadata": {},
   "outputs": [
    {
     "name": "stderr",
     "output_type": "stream",
     "text": [
      "[Stage 417:=====================================>              (143 + 18) / 200]\r"
     ]
    },
    {
     "name": "stdout",
     "output_type": "stream",
     "text": [
      "Number of rows where optimalBid >= payingPrice: 541809\n"
     ]
    },
    {
     "name": "stderr",
     "output_type": "stream",
     "text": [
      "                                                                                \r"
     ]
    }
   ],
   "source": [
    "# Filter rows where optimalBid >= payingPrice\n",
    "filtered_df = test_df_with_prob.filter(col('optimalBid') >= col('payingPrice')/1000 )\n",
    "\n",
    "# Count the number of rows that satisfy the condition\n",
    "count = filtered_df.count()\n",
    "\n",
    "# Show the count\n",
    "print(\"Number of rows where optimalBid >= payingPrice:\", count)"
   ]
  },
  {
   "cell_type": "code",
   "execution_count": 53,
   "id": "7161b700",
   "metadata": {
    "scrolled": true
   },
   "outputs": [
    {
     "name": "stderr",
     "output_type": "stream",
     "text": [
      "[Stage 420:===============================================>       (18 + 3) / 21]\r"
     ]
    },
    {
     "name": "stdout",
     "output_type": "stream",
     "text": [
      "+--------+------+----+----------+--------------------+-----+------+----------+-------+----+-----------+---------+-------------+--------------------+\n",
      "|numClick|region|city|adExchange|                 URL|width|height|floorPrice|weekday|hour|payingPrice|unique_id|positive_prob|          optimalBid|\n",
      "+--------+------+----+----------+--------------------+-----+------+----------+-------+----+-----------+---------+-------------+--------------------+\n",
      "|       0|    94|  96|         2|b9b27f86cd5409b50...|  468|    60|         5| Monday|   0|         14|      474|  0.066168584| 0.03210694837889605|\n",
      "|       0|   216| 219|         2|14813226981bea2d8...|  300|   250|         5| Monday|   0|         24|     1806|   0.06616997|0.032107620813803806|\n",
      "|       0|   238| 239|         1|d8df91a3689429534...|  300|   250|         0| Monday|   0|         32|     3764|   0.06632049| 0.03218065592136554|\n",
      "|       0|   275| 275|         2|b9b27f86cd5409b50...|  468|    60|         5| Monday|   0|          5|     8440|  0.066168584| 0.03210694837889605|\n",
      "|       0|   106| 121|         2|27da81265f7cee7ab...|  728|    90|         5| Monday|   0|          5|     8484|  0.066168584| 0.03210694837889605|\n",
      "|       0|   276| 276|         2|5bb34702b7afd0f14...|  728|    90|         5| Monday|   0|         24|    10156|  0.066168584| 0.03210694837889605|\n",
      "|       0|   333| 333|         2|d162641aec6507af6...|  300|   250|         5| Monday|   0|          8|    10871|   0.06632049| 0.03218065592136554|\n",
      "|       0|   368| 369|         1|826a99e39046efecc...|  950|    90|         0| Monday|   0|          8|    11276|  0.066168584| 0.03210694837889605|\n",
      "|       0|   276| 297|         2|39ce71550cc669845...|  728|    90|         5| Monday|   0|         24|    13248|  0.066168584| 0.03210694837889605|\n",
      "|       0|   216| 216|         2|4cd6719ccc0e9892e...|  468|    60|         5| Monday|   0|         24|    13401|   0.06615844|0.032102028035296826|\n",
      "|       0|   216| 216|         2|d8b214c5c754effba...|  300|   250|         5| Monday|   0|          5|    13638|   0.06616997|0.032107620813803806|\n",
      "|       0|   238| 239|         1|63636e0dd80b245ee...|  336|   280|         0| Monday|   0|         13|    15057|   0.06632049| 0.03218065592136554|\n",
      "|       0|   216| 216|         1|31ec3e5e4ead470d1...|  160|   600|         0| Monday|   0|         13|    15237|   0.06616997|0.032107620813803806|\n",
      "|       0|   333| 333|         1|deec57684c863da73...|  160|   600|         0| Monday|   0|          5|    15375|   0.06632049| 0.03218065592136554|\n",
      "|       0|   253| 254|         1|4e44922ca1d0648eb...|  336|   280|         0| Monday|   0|         21|    15432|   0.06632049| 0.03218065592136554|\n",
      "|       0|   216| 216|         1|b76c48161dcb48de6...|  160|   600|         0| Monday|   0|         32|    15846|   0.06616997|0.032107620813803806|\n",
      "|       0|   216| 234|         1|4348e08a996110a9b...|  336|   280|         0| Monday|   0|         13|    16530|   0.06616997|0.032107620813803806|\n",
      "|       0|   201| 201|         1|7bde8e2f7577f347f...|  300|   250|         0| Monday|   0|         26|    16742|   0.06632049| 0.03218065592136554|\n",
      "|       0|   238| 240|         2|e8a437ec5618807c8...|  728|    90|         5| Monday|   0|          7|    17043|  0.066168584| 0.03210694837889605|\n",
      "|       0|    80|  85|         2|35bd0d52f43242d14...|  200|   200|         5| Monday|   0|          5|    19158|  0.066168584| 0.03210694837889605|\n",
      "+--------+------+----+----------+--------------------+-----+------+----------+-------+----+-----------+---------+-------------+--------------------+\n",
      "only showing top 20 rows\n",
      "\n"
     ]
    },
    {
     "name": "stderr",
     "output_type": "stream",
     "text": [
      "                                                                                \r"
     ]
    }
   ],
   "source": [
    "filtered_df.show()"
   ]
  },
  {
   "cell_type": "code",
   "execution_count": 54,
   "id": "b183d8bb",
   "metadata": {
    "scrolled": false
   },
   "outputs": [
    {
     "name": "stderr",
     "output_type": "stream",
     "text": [
      "[Stage 424:===================================>                (136 + 18) / 200]\r"
     ]
    },
    {
     "name": "stdout",
     "output_type": "stream",
     "text": [
      "+--------------+-----------------+-------------------+\n",
      "|total_numClick|total_payingPrice|                ROI|\n",
      "+--------------+-----------------+-------------------+\n",
      "|           221|          9951972|0.02220665411839985|\n",
      "+--------------+-----------------+-------------------+\n",
      "\n"
     ]
    },
    {
     "name": "stderr",
     "output_type": "stream",
     "text": [
      "                                                                                \r"
     ]
    }
   ],
   "source": [
    "\n",
    "aggregated_df = filtered_df.agg(\n",
    "    _sum('numClick').alias('total_numClick'),\n",
    "    _sum('payingPrice').alias('total_payingPrice')\n",
    ")\n",
    "\n",
    "# Calculate ROI (numClick / payingPrice)\n",
    "aggregated_df = aggregated_df.withColumn(\n",
    "    'ROI', col('total_numClick') / (col('total_payingPrice') / 1000)\n",
    ")\n",
    "\n",
    "# Show the results\n",
    "aggregated_df.show()"
   ]
  },
  {
   "cell_type": "markdown",
   "id": "66d757ed",
   "metadata": {},
   "source": [
    "### Find ROI under scenario 3: Budget = 1500 CNY"
   ]
  },
  {
   "cell_type": "code",
   "execution_count": 56,
   "id": "6c05f74c",
   "metadata": {
    "scrolled": true
   },
   "outputs": [
    {
     "name": "stderr",
     "output_type": "stream",
     "text": [
      "[Stage 478:=========================================>             (16 + 5) / 21]\r"
     ]
    },
    {
     "name": "stdout",
     "output_type": "stream",
     "text": [
      "+--------+------+----+----------+--------------------+-----+------+----------+-------+----+-----------+---------+-------------+-------------------+\n",
      "|numClick|region|city|adExchange|                 URL|width|height|floorPrice|weekday|hour|payingPrice|unique_id|positive_prob|         optimalBid|\n",
      "+--------+------+----+----------+--------------------+-----+------+----------+-------+----+-----------+---------+-------------+-------------------+\n",
      "|       0|   216| 233|         1|177a166119fcf41b8...|  160|   600|         0| Monday|   0|         50|       26|   0.06616997|0.03998307497568021|\n",
      "|       0|    94|  96|         2|b9b27f86cd5409b50...|  468|    60|         5| Monday|   0|         14|      474|  0.066168584|0.03998223760390829|\n",
      "|       0|   216| 219|         2|14813226981bea2d8...|  300|   250|         5| Monday|   0|         24|     1806|   0.06616997|0.03998307497568021|\n",
      "|       0|    80|  82|         1|1f1640b91b6c10733...|  300|   250|         0| Monday|   0|         53|     2453|   0.06632049|0.04007402435490803|\n",
      "|       0|   238| 239|         1|d8df91a3689429534...|  300|   250|         0| Monday|   0|         32|     3764|   0.06632049|0.04007402435490803|\n",
      "|       0|   183| 190|         1|2933149c579011f94...|  950|    90|         0| Monday|   0|         53|     8075|  0.066168584|0.03998223760390829|\n",
      "|       0|   275| 275|         2|b9b27f86cd5409b50...|  468|    60|         5| Monday|   0|          5|     8440|  0.066168584|0.03998223760390829|\n",
      "|       0|   106| 121|         2|27da81265f7cee7ab...|  728|    90|         5| Monday|   0|          5|     8484|  0.066168584|0.03998223760390829|\n",
      "|       0|   124| 131|         1|b5eadad2549dbedd1...|  300|   250|         0| Monday|   0|        163|     9233|   0.06632049|0.04007402435490803|\n",
      "|       0|   216| 219|         1|a72f8164c89709358...|  300|   250|         0| Monday|   0|         75|     9945|   0.06616997|0.03998307497568021|\n",
      "|       0|   276| 276|         2|5bb34702b7afd0f14...|  728|    90|         5| Monday|   0|         24|    10156|  0.066168584|0.03998223760390829|\n",
      "|       0|   333| 333|         2|d162641aec6507af6...|  300|   250|         5| Monday|   0|          8|    10871|   0.06632049|0.04007402435490803|\n",
      "|       0|   368| 369|         1|826a99e39046efecc...|  950|    90|         0| Monday|   0|          8|    11276|  0.066168584|0.03998223760390829|\n",
      "|       0|    94|  95|         1|c5917495f353f1616...|  336|   280|         0| Monday|   0|        160|    11945|   0.06632049|0.04007402435490803|\n",
      "|       0|     2|   2|         1|22768663f196e257c...|  728|    90|         0| Monday|   0|         53|    12568|  0.066168584|0.03998223760390829|\n",
      "|       0|   276| 297|         2|39ce71550cc669845...|  728|    90|         5| Monday|   0|         24|    13248|  0.066168584|0.03998223760390829|\n",
      "|       0|   216| 216|         2|4cd6719ccc0e9892e...|  468|    60|         5| Monday|   0|         24|    13401|   0.06615844|0.03997611038357718|\n",
      "|       0|   216| 216|         2|d8b214c5c754effba...|  300|   250|         5| Monday|   0|          5|    13638|   0.06616997|0.03998307497568021|\n",
      "|       0|    79|  79|         2|244736a27116e1cd7...|  250|   250|         5| Monday|   0|         80|    13723|   0.06632049|0.04007402435490803|\n",
      "|       0|    79|  79|         2|5ffb9f9dad24d722d...|  728|    90|         5| Monday|   0|        148|    14846|  0.066168584|0.03998223760390829|\n",
      "+--------+------+----+----------+--------------------+-----+------+----------+-------+----+-----------+---------+-------------+-------------------+\n",
      "only showing top 20 rows\n",
      "\n"
     ]
    },
    {
     "name": "stderr",
     "output_type": "stream",
     "text": [
      "                                                                                \r"
     ]
    }
   ],
   "source": [
    "\n",
    "# UDF to compute the new column value\n",
    "def calculate_value(t, alpha, positive_prob):\n",
    "    return alpha * positive_prob * roi_dict.get(t)\n",
    "\n",
    "calculate_value_udf = udf(calculate_value, DoubleType())\n",
    "\n",
    "alpha = 0.604248046875\n",
    "\n",
    "test_df_with_prob = test_df_with_prob.withColumn('optimalBid', calculate_value_udf(col('hour'), lit(alpha), col('positive_prob')))\n",
    "\n",
    "# Show the DataFrame with the new column\n",
    "test_df_with_prob.show()"
   ]
  },
  {
   "cell_type": "code",
   "execution_count": 57,
   "id": "e0c3e514",
   "metadata": {},
   "outputs": [
    {
     "name": "stderr",
     "output_type": "stream",
     "text": [
      "[Stage 482:======================================>             (148 + 16) / 200]\r"
     ]
    },
    {
     "name": "stdout",
     "output_type": "stream",
     "text": [
      "Number of rows where optimalBid >= payingPrice: 649023\n"
     ]
    },
    {
     "name": "stderr",
     "output_type": "stream",
     "text": [
      "                                                                                \r"
     ]
    }
   ],
   "source": [
    "# Filter rows where optimalBid >= payingPrice\n",
    "filtered_df = test_df_with_prob.filter(col('optimalBid') >= col('payingPrice')/1000 )\n",
    "\n",
    "# Count the number of rows that satisfy the condition\n",
    "count = filtered_df.count()\n",
    "\n",
    "# Show the count\n",
    "print(\"Number of rows where optimalBid >= payingPrice:\", count)"
   ]
  },
  {
   "cell_type": "code",
   "execution_count": 58,
   "id": "064c81c0",
   "metadata": {},
   "outputs": [
    {
     "name": "stderr",
     "output_type": "stream",
     "text": [
      "[Stage 486:================================================>   (186 + 14) / 200]\r"
     ]
    },
    {
     "name": "stdout",
     "output_type": "stream",
     "text": [
      "+--------------+-----------------+--------------------+\n",
      "|total_numClick|total_payingPrice|                 ROI|\n",
      "+--------------+-----------------+--------------------+\n",
      "|           280|         14812002|0.018903589129950157|\n",
      "+--------------+-----------------+--------------------+\n",
      "\n"
     ]
    },
    {
     "name": "stderr",
     "output_type": "stream",
     "text": [
      "                                                                                \r"
     ]
    }
   ],
   "source": [
    "\n",
    "aggregated_df = filtered_df.agg(\n",
    "    _sum('numClick').alias('total_numClick'),\n",
    "    _sum('payingPrice').alias('total_payingPrice')\n",
    ")\n",
    "\n",
    "# Calculate ROI (numClick / payingPrice)\n",
    "aggregated_df = aggregated_df.withColumn(\n",
    "    'ROI', col('total_numClick') / (col('total_payingPrice') / 1000)\n",
    ")\n",
    "\n",
    "# Show the results\n",
    "aggregated_df.show()"
   ]
  },
  {
   "cell_type": "markdown",
   "id": "b3d56e93",
   "metadata": {},
   "source": [
    "### Areas for further exploration\n",
    "* The ML model was trained and the bidding algorithm was found as if the entire impressions were shown in the same URL and from the same advertisers.  Ideally, would have different bidding models for each URL.\n",
    "\n",
    "* Fine tune the ML model\n",
    "\n",
    "* Fine-tune the pricing model to incorporate more temporal factors\n",
    " "
   ]
  },
  {
   "cell_type": "code",
   "execution_count": 44,
   "id": "38a1cbd6",
   "metadata": {},
   "outputs": [
    {
     "name": "stderr",
     "output_type": "stream",
     "text": [
      "[Stage 393:============================================>          (17 + 4) / 21]\r"
     ]
    },
    {
     "name": "stdout",
     "output_type": "stream",
     "text": [
      "Number of unique values in the URL column: 751747\n"
     ]
    },
    {
     "name": "stderr",
     "output_type": "stream",
     "text": [
      "                                                                                \r"
     ]
    }
   ],
   "source": [
    "# Count the number of unique values in the URL column\n",
    "unique_url_count = test_df.select('URL').distinct().count()\n",
    "\n",
    "# Show the count\n",
    "print(\"Number of unique values in the URL column:\", unique_url_count)"
   ]
  },
  {
   "cell_type": "code",
   "execution_count": 45,
   "id": "0c234913",
   "metadata": {},
   "outputs": [
    {
     "name": "stderr",
     "output_type": "stream",
     "text": [
      "                                                                                \r"
     ]
    },
    {
     "data": {
      "text/plain": [
       "2007563"
      ]
     },
     "execution_count": 45,
     "metadata": {},
     "output_type": "execute_result"
    }
   ],
   "source": [
    "test_df.count()"
   ]
  }
 ],
 "metadata": {
  "kernelspec": {
   "display_name": "Python 3 (ipykernel)",
   "language": "python",
   "name": "python3"
  },
  "language_info": {
   "codemirror_mode": {
    "name": "ipython",
    "version": 3
   },
   "file_extension": ".py",
   "mimetype": "text/x-python",
   "name": "python",
   "nbconvert_exporter": "python",
   "pygments_lexer": "ipython3",
   "version": "3.8.12"
  }
 },
 "nbformat": 4,
 "nbformat_minor": 5
}
