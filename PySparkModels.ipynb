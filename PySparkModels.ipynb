{
 "cells": [
  {
   "cell_type": "code",
   "execution_count": null,
   "metadata": {},
   "outputs": [],
   "source": [
    "from pyspark.sql import SparkSession"
   ]
  },
  {
   "cell_type": "code",
   "execution_count": null,
   "metadata": {},
   "outputs": [],
   "source": [
    "spark = SparkSession.builder.appName(\"MLAnalysisAdClicks\").getOrCreate()\n",
    "sc = spark.sparkContext"
   ]
  },
  {
   "cell_type": "code",
   "execution_count": null,
   "metadata": {},
   "outputs": [],
   "source": [
    "# Load normalized data\n",
    "df = spark.read.option(\"delimiter\", \"\\t\") \\\n",
    "    .option(\"header\", \"true\") \\\n",
    "    .option(\"inferSchema\", \"true\") \\\n",
    "    .csv(\"/home/yl9709/combined_training_before_normalize.txt\")\n",
    "\n",
    "# Select necessary columns and cast them as needed\n",
    "from pyspark.sql.functions import col\n",
    "\n",
    "df = df.select(\n",
    "    col(\"numClick\").cast(\"int\"),\n",
    "    col(\"region\").cast(\"int\"),\n",
    "    col(\"city\").cast(\"int\"),\n",
    "    col(\"adExchange\").cast(\"int\"),\n",
    "    col(\"width\").cast(\"int\"),\n",
    "    col(\"height\").cast(\"int\"),\n",
    "    col(\"floorPrice\").cast(\"int\"),\n",
    "    col(\"weekday\"),\n",
    "    col(\"hour\").cast(\"int\"),\n",
    "    col(\"payingPrice\").cast(\"int\")\n",
    ")\n",
    "\n",
    "# Check the data\n",
    "df.show(5)"
   ]
  },
  {
   "cell_type": "code",
   "execution_count": null,
   "metadata": {},
   "outputs": [],
   "source": [
    "from pyspark.ml.feature import StringIndexer, OneHotEncoder, VectorAssembler\n",
    "\n",
    "# Indexing and encoding categorical columns\n",
    "categoricalColumns = ['region', 'city', 'adExchange', 'weekday']\n",
    "stages = []\n",
    "\n",
    "for categoricalCol in categoricalColumns:\n",
    "    stringIndexer = StringIndexer(inputCol=categoricalCol, outputCol=categoricalCol + \"Index\")\n",
    "    encoder = OneHotEncoder(inputCols=[stringIndexer.getOutputCol()], outputCols=[categoricalCol + \"classVec\"])\n",
    "    stages += [stringIndexer, encoder]\n",
    "\n",
    "# Assembling vector\n",
    "assemblerInputs = [c + \"classVec\" for c in categoricalColumns] + ['width', 'height', 'floorPrice', 'hour']\n",
    "assembler = VectorAssembler(inputCols=assemblerInputs, outputCol=\"features\")\n",
    "stages += [assembler]"
   ]
  },
  {
   "cell_type": "code",
   "execution_count": null,
   "metadata": {},
   "outputs": [],
   "source": [
    "from pyspark.ml import Pipeline\n",
    "from pyspark.ml.classification import LogisticRegression, GBTClassifier, LinearSVC\n",
    "from pyspark.ml.evaluation import BinaryClassificationEvaluator\n",
    "\n",
    "# Set up the evaluator\n",
    "evaluator = BinaryClassificationEvaluator(rawPredictionCol=\"rawPrediction\", labelCol=\"numClick\", metricName=\"areaUnderROC\")\n",
    "\n",
    "train_df, test_df = df.randomSplit([0.7, 0.3], seed=42)\n"
   ]
  },
  {
   "cell_type": "code",
   "execution_count": null,
   "metadata": {},
   "outputs": [],
   "source": [
    "\n",
    "# Logistic Regression\n",
    "lr = LogisticRegression(labelCol=\"numClick\", featuresCol=\"features\", maxIter=10)\n",
    "pipeline_lr = Pipeline(stages=stages + [lr])\n",
    "model_lr = pipeline_lr.fit(train_df)\n",
    "predictions_lr = model_lr.transform(test_df)\n",
    "print(\"Logistic Regression AUC: \", evaluator.evaluate(predictions_lr))"
   ]
  },
  {
   "cell_type": "code",
   "execution_count": null,
   "metadata": {},
   "outputs": [],
   "source": [
    "# Gradient Boosting Trees\n",
    "gbt = GBTClassifier(labelCol=\"numClick\", featuresCol=\"features\", maxIter=10)\n",
    "pipeline_gbt = Pipeline(stages=stages + [gbt])\n",
    "model_gbt = pipeline_gbt.fit(train_df)\n",
    "predictions_gbt = model_gbt.transform(test_df)\n",
    "print(\"Gradient Boosting AUC: \", evaluator.evaluate(predictions_gbt))"
   ]
  },
  {
   "cell_type": "code",
   "execution_count": null,
   "metadata": {},
   "outputs": [],
   "source": [
    "# Support Vector Machine\n",
    "svm = LinearSVC(labelCol=\"numClick\", featuresCol=\"features\", maxIter=10)\n",
    "pipeline_svm = Pipeline(stages=stages + [svm])\n",
    "model_svm = pipeline_svm.fit(train_df)\n",
    "predictions_svm = model_svm.transform(test_df)\n",
    "print(\"SVM AUC: \", evaluator.evaluate(predictions_svm))"
   ]
  },
  {
   "cell_type": "code",
   "execution_count": null,
   "metadata": {},
   "outputs": [],
   "source": [
    "# Add the prediction column to the test data\n",
    "test_df= test_df.join(predictions_gbt.select('prediction', 'features'), on='features', how='inner')"
   ]
  },
  {
   "cell_type": "code",
   "execution_count": null,
   "metadata": {},
   "outputs": [],
   "source": [
    "# Sum bidding price to determine the budget.\n",
    "# The max bidding in the simulation will be less than this.\n",
    "print(test_df['payingPrice'].sum())"
   ]
  },
  {
   "cell_type": "code",
   "execution_count": null,
   "metadata": {},
   "outputs": [],
   "source": [
    "# (avg winning price / average click through rate) to determine the range of the alpha\n",
    "print(test_df['payingPrice'].avg() / test_df['clickRate'].avg())\n",
    "print(test_df['payingPrice'].max() / test_df['clickRate'].min())\n",
    "\n",
    "# bid price = click through rate * alpha"
   ]
  },
  {
   "cell_type": "markdown",
   "metadata": {},
   "source": [
    "Define the Bidding Function: \n",
    "<br>(1) Bidding Price = alpha × Predicted Click Rate\n",
    "<br>(2) Implement Binary Search: Use binary search to find the optimal β value.\n",
    "<br>(3) Simulation Function: Create a function to simulate bidding based on a given β and calculate the total clicks won and the total cost.\n",
    "<br>(4) Optimization Loop: Use the binary search to adjust β to maximize clicks while staying under the budget."
   ]
  },
  {
   "cell_type": "code",
   "execution_count": null,
   "metadata": {},
   "outputs": [],
   "source": [
    "# simulate bidding to based on a given alpha and calculate the total clicks and total costs\n",
    "def simulateBidding(alpha, test_df, budget):\n",
    "    total_spent = 0\n",
    "    total_clicks = 0\n",
    "\n",
    "    for row in test_df.collect():\n",
    "        predicted_click_rate = row.prediction\n",
    "        winning_price = row.payingPrice\n",
    "        bid_price = alpha * predicted_click_rate + \n",
    "        if bid_price > winning_price # and total_spent + bid_price <= budget:\n",
    "            total_spent += bid_price # assumes that I am paying my bid_price (although it's a second price auction)\n",
    "            total_clicks =  total_clicks + row[is_click] ## \n",
    "\n",
    "    return total_clicks, total_spent\n",
    "\n",
    "\n",
    "# Use binary search to find the alpha that maximizes the click rate while staying under the budget\n",
    "def binarySearch(low, high, test_df, budget):\n",
    "    # returns the alpha\n",
    "    alpha = 0\n",
    "    max_clicks = 0\n",
    "\n",
    "    while high - low > 0.01:\n",
    "        mid = (low + high) / 2\n",
    "        clicks, spend = simulateBidding(mid, test_df, budget)\n",
    "        if spend > budget:\n",
    "            high = mid\n",
    "        else:\n",
    "            low = mid\n",
    "            if clicks > max_clicks:\n",
    "                max_clicks = clicks\n",
    "                alpha = mid\n",
    "\n",
    "    return alpha\n",
    "\n",
    "    "
   ]
  },
  {
   "cell_type": "code",
   "execution_count": null,
   "metadata": {},
   "outputs": [],
   "source": [
    "\n",
    "alpha = binarySearch(0, 100, test_df, 1000) # the low & high & budget are to be changed later. \n",
    "print(alpha)"
   ]
  }
 ],
 "metadata": {
  "language_info": {
   "name": "python"
  }
 },
 "nbformat": 4,
 "nbformat_minor": 2
}
